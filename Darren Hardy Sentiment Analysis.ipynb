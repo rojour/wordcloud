{
 "cells": [
  {
   "cell_type": "markdown",
   "metadata": {},
   "source": [
    "## Import the appropiate libraries"
   ]
  },
  {
   "cell_type": "code",
   "execution_count": 1,
   "metadata": {
    "collapsed": true
   },
   "outputs": [],
   "source": [
    "import tweepy\n",
    "import pandas as pd\n",
    "import numpy as np\n",
    "import matplotlib.pyplot as plt\n",
    "import seaborn as sns\n",
    "%matplotlib inline"
   ]
  },
  {
   "cell_type": "markdown",
   "metadata": {},
   "source": [
    "#### Numbers to access twitter api"
   ]
  },
  {
   "cell_type": "code",
   "execution_count": 2,
   "metadata": {
    "collapsed": true
   },
   "outputs": [],
   "source": [
    "CONSUMER_KEY = 'kIfyYdxTpAdn201jTngWDG06E'\n",
    "CONSUMER_SECRET = 'PGELl3ticAMTOMtZm2qbpF2EK8jpp1vnRLIA8P53V8Ctp99sUx'\n",
    "\n",
    "ACCESS_TOKEN = '500966533-Ojcp3bcWdtXZiG8eGR5N1Y3514eZCTcKsaFVT3pv'\n",
    "ACCESS_SECRET = '38jdrYT2eSefS5GrU4q6sw8oJiYmQ5FkProK7abMdUzIK'"
   ]
  },
  {
   "cell_type": "markdown",
   "metadata": {},
   "source": [
    "#### Function to access the last 200 tweets"
   ]
  },
  {
   "cell_type": "code",
   "execution_count": 3,
   "metadata": {
    "collapsed": true
   },
   "outputs": [],
   "source": [
    "def twitter_setup():\n",
    "    \"\"\"\n",
    "    Utility function to setup the Twitter's API\n",
    "    with our access keys provided.\n",
    "    \"\"\"\n",
    "    \n",
    "    auth = tweepy.OAuthHandler(CONSUMER_KEY, CONSUMER_SECRET)\n",
    "    auth.set_access_token(ACCESS_TOKEN, ACCESS_SECRET)\n",
    "    \n",
    "    api = tweepy.API(auth)\n",
    "    return api"
   ]
  },
  {
   "cell_type": "code",
   "execution_count": 4,
   "metadata": {
    "collapsed": true
   },
   "outputs": [],
   "source": [
    "extractor = twitter_setup()"
   ]
  },
  {
   "cell_type": "code",
   "execution_count": 5,
   "metadata": {},
   "outputs": [
    {
     "name": "stdout",
     "output_type": "stream",
     "text": [
      "number of tweets extracted: 200.\n",
      "\n"
     ]
    }
   ],
   "source": [
    "tweets = extractor.user_timeline(screen_name=\"DARRENHARDY\", count=200)\n",
    "print(\"number of tweets extracted: {}.\\n\".format(len(tweets)))"
   ]
  },
  {
   "cell_type": "markdown",
   "metadata": {},
   "source": [
    "#### Sample of the last 5 tweets"
   ]
  },
  {
   "cell_type": "code",
   "execution_count": 6,
   "metadata": {},
   "outputs": [
    {
     "name": "stdout",
     "output_type": "stream",
     "text": [
      "5 recent tweets:\n",
      "\n",
      "Are you a self-made success? You sure?? Before you answer, you might want to watch today's #DarrenDaily here: https://t.co/X1ssXdBQeO \n",
      "\n",
      "Consistency will help you achieve your biggest dreams. Get the exact tools and resources I use to stay on track at… https://t.co/srYGn80zyx \n",
      "\n",
      "Become the powerful &amp; persuasive influencer you KNOW you can be with this (free!) 5-part persuasion training series… https://t.co/wRc3r8H7Jh \n",
      "\n",
      "The tools &amp; resources you need to 5x your income &amp; influence revealed THIS Thursday here (limited capacity!):… https://t.co/LhAMdJSFJv \n",
      "\n",
      "@ZachFuhr We have reached out over DM! \n",
      "\n"
     ]
    }
   ],
   "source": [
    "print(\"5 recent tweets:\\n\")\n",
    "for tweet in tweets[:5]:\n",
    "    print(tweet.text, '\\n')"
   ]
  },
  {
   "cell_type": "markdown",
   "metadata": {},
   "source": [
    "## Create dataframe with the tweets and the relevant information we can extract from them"
   ]
  },
  {
   "cell_type": "code",
   "execution_count": 7,
   "metadata": {
    "collapsed": true
   },
   "outputs": [],
   "source": [
    "df = pd.DataFrame([tweet.text for tweet in tweets], columns=['Tweets'])"
   ]
  },
  {
   "cell_type": "code",
   "execution_count": 8,
   "metadata": {},
   "outputs": [
    {
     "data": {
      "text/html": [
       "<div>\n",
       "<style>\n",
       "    .dataframe thead tr:only-child th {\n",
       "        text-align: right;\n",
       "    }\n",
       "\n",
       "    .dataframe thead th {\n",
       "        text-align: left;\n",
       "    }\n",
       "\n",
       "    .dataframe tbody tr th {\n",
       "        vertical-align: top;\n",
       "    }\n",
       "</style>\n",
       "<table border=\"1\" class=\"dataframe\">\n",
       "  <thead>\n",
       "    <tr style=\"text-align: right;\">\n",
       "      <th></th>\n",
       "      <th>Tweets</th>\n",
       "    </tr>\n",
       "  </thead>\n",
       "  <tbody>\n",
       "    <tr>\n",
       "      <th>0</th>\n",
       "      <td>Are you a self-made success? You sure?? Before...</td>\n",
       "    </tr>\n",
       "    <tr>\n",
       "      <th>1</th>\n",
       "      <td>Consistency will help you achieve your biggest...</td>\n",
       "    </tr>\n",
       "    <tr>\n",
       "      <th>2</th>\n",
       "      <td>Become the powerful &amp;amp; persuasive influence...</td>\n",
       "    </tr>\n",
       "    <tr>\n",
       "      <th>3</th>\n",
       "      <td>The tools &amp;amp; resources you need to 5x your ...</td>\n",
       "    </tr>\n",
       "    <tr>\n",
       "      <th>4</th>\n",
       "      <td>@ZachFuhr We have reached out over DM!</td>\n",
       "    </tr>\n",
       "  </tbody>\n",
       "</table>\n",
       "</div>"
      ],
      "text/plain": [
       "                                              Tweets\n",
       "0  Are you a self-made success? You sure?? Before...\n",
       "1  Consistency will help you achieve your biggest...\n",
       "2  Become the powerful &amp; persuasive influence...\n",
       "3  The tools &amp; resources you need to 5x your ...\n",
       "4             @ZachFuhr We have reached out over DM!"
      ]
     },
     "execution_count": 8,
     "metadata": {},
     "output_type": "execute_result"
    }
   ],
   "source": [
    "df.head()"
   ]
  },
  {
   "cell_type": "code",
   "execution_count": 9,
   "metadata": {},
   "outputs": [
    {
     "name": "stdout",
     "output_type": "stream",
     "text": [
      "['__class__', '__delattr__', '__dict__', '__dir__', '__doc__', '__eq__', '__format__', '__ge__', '__getattribute__', '__getstate__', '__gt__', '__hash__', '__init__', '__le__', '__lt__', '__module__', '__ne__', '__new__', '__reduce__', '__reduce_ex__', '__repr__', '__setattr__', '__sizeof__', '__str__', '__subclasshook__', '__weakref__', '_api', '_json', 'author', 'contributors', 'coordinates', 'created_at', 'destroy', 'entities', 'favorite', 'favorite_count', 'favorited', 'geo', 'id', 'id_str', 'in_reply_to_screen_name', 'in_reply_to_status_id', 'in_reply_to_status_id_str', 'in_reply_to_user_id', 'in_reply_to_user_id_str', 'is_quote_status', 'lang', 'parse', 'parse_list', 'place', 'possibly_sensitive', 'retweet', 'retweet_count', 'retweeted', 'retweets', 'source', 'source_url', 'text', 'truncated', 'user']\n"
     ]
    }
   ],
   "source": [
    "print(dir(tweets[0]))"
   ]
  },
  {
   "cell_type": "code",
   "execution_count": 10,
   "metadata": {},
   "outputs": [
    {
     "name": "stdout",
     "output_type": "stream",
     "text": [
      "913108225788186624\n",
      "2017-09-27 18:29:00\n",
      "Buffer\n",
      "1\n",
      "0\n",
      "None\n",
      "None\n",
      "{'symbols': [], 'urls': [{'url': 'https://t.co/X1ssXdBQeO', 'expanded_url': 'https://buff.ly/2fGHg7A', 'indices': [110, 133], 'display_url': 'buff.ly/2fGHg7A'}], 'user_mentions': [], 'hashtags': [{'indices': [91, 103], 'text': 'DarrenDaily'}]}\n"
     ]
    }
   ],
   "source": [
    "print(tweets[0].id)\n",
    "print(tweets[0].created_at)\n",
    "print(tweets[0].source)\n",
    "print(tweets[0].favorite_count)\n",
    "print(tweets[0].retweet_count)\n",
    "print(tweets[0].geo)\n",
    "print(tweets[0].coordinates)\n",
    "print(tweets[0].entities)"
   ]
  },
  {
   "cell_type": "code",
   "execution_count": 11,
   "metadata": {
    "collapsed": true
   },
   "outputs": [],
   "source": [
    "df['len'] = np.array([len(tweet.text) for tweet in tweets])\n",
    "df['ID'] = np.array([tweet.id for tweet in tweets])\n",
    "df['Date'] = np.array([tweet.created_at for tweet in tweets])\n",
    "df['Source'] = np.array([tweet.source for tweet in tweets])\n",
    "df['Likes'] = np.array([tweet.favorite_count for tweet in tweets])\n",
    "df['Re_Tweets'] = np.array([tweet.retweet_count for tweet in tweets])"
   ]
  },
  {
   "cell_type": "code",
   "execution_count": 12,
   "metadata": {},
   "outputs": [
    {
     "data": {
      "text/html": [
       "<div>\n",
       "<style>\n",
       "    .dataframe thead tr:only-child th {\n",
       "        text-align: right;\n",
       "    }\n",
       "\n",
       "    .dataframe thead th {\n",
       "        text-align: left;\n",
       "    }\n",
       "\n",
       "    .dataframe tbody tr th {\n",
       "        vertical-align: top;\n",
       "    }\n",
       "</style>\n",
       "<table border=\"1\" class=\"dataframe\">\n",
       "  <thead>\n",
       "    <tr style=\"text-align: right;\">\n",
       "      <th></th>\n",
       "      <th>Tweets</th>\n",
       "      <th>len</th>\n",
       "      <th>ID</th>\n",
       "      <th>Date</th>\n",
       "      <th>Source</th>\n",
       "      <th>Likes</th>\n",
       "      <th>Re_Tweets</th>\n",
       "    </tr>\n",
       "  </thead>\n",
       "  <tbody>\n",
       "    <tr>\n",
       "      <th>0</th>\n",
       "      <td>Are you a self-made success? You sure?? Before...</td>\n",
       "      <td>133</td>\n",
       "      <td>913108225788186624</td>\n",
       "      <td>2017-09-27 18:29:00</td>\n",
       "      <td>Buffer</td>\n",
       "      <td>1</td>\n",
       "      <td>0</td>\n",
       "    </tr>\n",
       "    <tr>\n",
       "      <th>1</th>\n",
       "      <td>Consistency will help you achieve your biggest...</td>\n",
       "      <td>139</td>\n",
       "      <td>913074643711479809</td>\n",
       "      <td>2017-09-27 16:15:33</td>\n",
       "      <td>Buffer</td>\n",
       "      <td>22</td>\n",
       "      <td>9</td>\n",
       "    </tr>\n",
       "    <tr>\n",
       "      <th>2</th>\n",
       "      <td>Become the powerful &amp;amp; persuasive influence...</td>\n",
       "      <td>144</td>\n",
       "      <td>913042305967362049</td>\n",
       "      <td>2017-09-27 14:07:03</td>\n",
       "      <td>Buffer</td>\n",
       "      <td>14</td>\n",
       "      <td>9</td>\n",
       "    </tr>\n",
       "    <tr>\n",
       "      <th>3</th>\n",
       "      <td>The tools &amp;amp; resources you need to 5x your ...</td>\n",
       "      <td>142</td>\n",
       "      <td>912845002761494528</td>\n",
       "      <td>2017-09-27 01:03:03</td>\n",
       "      <td>Buffer</td>\n",
       "      <td>14</td>\n",
       "      <td>4</td>\n",
       "    </tr>\n",
       "    <tr>\n",
       "      <th>4</th>\n",
       "      <td>@ZachFuhr We have reached out over DM!</td>\n",
       "      <td>38</td>\n",
       "      <td>912748902339698688</td>\n",
       "      <td>2017-09-26 18:41:11</td>\n",
       "      <td>Twitter Web Client</td>\n",
       "      <td>0</td>\n",
       "      <td>0</td>\n",
       "    </tr>\n",
       "  </tbody>\n",
       "</table>\n",
       "</div>"
      ],
      "text/plain": [
       "                                              Tweets  len                  ID  \\\n",
       "0  Are you a self-made success? You sure?? Before...  133  913108225788186624   \n",
       "1  Consistency will help you achieve your biggest...  139  913074643711479809   \n",
       "2  Become the powerful &amp; persuasive influence...  144  913042305967362049   \n",
       "3  The tools &amp; resources you need to 5x your ...  142  912845002761494528   \n",
       "4             @ZachFuhr We have reached out over DM!   38  912748902339698688   \n",
       "\n",
       "                 Date              Source  Likes  Re_Tweets  \n",
       "0 2017-09-27 18:29:00              Buffer      1          0  \n",
       "1 2017-09-27 16:15:33              Buffer     22          9  \n",
       "2 2017-09-27 14:07:03              Buffer     14          9  \n",
       "3 2017-09-27 01:03:03              Buffer     14          4  \n",
       "4 2017-09-26 18:41:11  Twitter Web Client      0          0  "
      ]
     },
     "execution_count": 12,
     "metadata": {},
     "output_type": "execute_result"
    }
   ],
   "source": [
    "df.head()"
   ]
  },
  {
   "cell_type": "code",
   "execution_count": 13,
   "metadata": {
    "collapsed": true
   },
   "outputs": [],
   "source": [
    "max_like = max(df['Likes'])\n",
    "max_Re_Tweets = max(df['Re_Tweets'])"
   ]
  },
  {
   "cell_type": "markdown",
   "metadata": {},
   "source": [
    "#### Most popular tweets"
   ]
  },
  {
   "cell_type": "code",
   "execution_count": 14,
   "metadata": {},
   "outputs": [
    {
     "data": {
      "text/html": [
       "<div>\n",
       "<style>\n",
       "    .dataframe thead tr:only-child th {\n",
       "        text-align: right;\n",
       "    }\n",
       "\n",
       "    .dataframe thead th {\n",
       "        text-align: left;\n",
       "    }\n",
       "\n",
       "    .dataframe tbody tr th {\n",
       "        vertical-align: top;\n",
       "    }\n",
       "</style>\n",
       "<table border=\"1\" class=\"dataframe\">\n",
       "  <thead>\n",
       "    <tr style=\"text-align: right;\">\n",
       "      <th></th>\n",
       "      <th>Tweets</th>\n",
       "      <th>len</th>\n",
       "      <th>ID</th>\n",
       "      <th>Date</th>\n",
       "      <th>Source</th>\n",
       "      <th>Likes</th>\n",
       "      <th>Re_Tweets</th>\n",
       "    </tr>\n",
       "  </thead>\n",
       "  <tbody>\n",
       "    <tr>\n",
       "      <th>187</th>\n",
       "      <td>Your bank account a year from now will be dete...</td>\n",
       "      <td>132</td>\n",
       "      <td>892778793835933696</td>\n",
       "      <td>2017-08-02 16:07:06</td>\n",
       "      <td>Buffer</td>\n",
       "      <td>372</td>\n",
       "      <td>202</td>\n",
       "    </tr>\n",
       "  </tbody>\n",
       "</table>\n",
       "</div>"
      ],
      "text/plain": [
       "                                                Tweets  len  \\\n",
       "187  Your bank account a year from now will be dete...  132   \n",
       "\n",
       "                     ID                Date  Source  Likes  Re_Tweets  \n",
       "187  892778793835933696 2017-08-02 16:07:06  Buffer    372        202  "
      ]
     },
     "execution_count": 14,
     "metadata": {},
     "output_type": "execute_result"
    }
   ],
   "source": [
    "df[df['Likes'] == max_like]"
   ]
  },
  {
   "cell_type": "code",
   "execution_count": 15,
   "metadata": {},
   "outputs": [
    {
     "data": {
      "text/html": [
       "<div>\n",
       "<style>\n",
       "    .dataframe thead tr:only-child th {\n",
       "        text-align: right;\n",
       "    }\n",
       "\n",
       "    .dataframe thead th {\n",
       "        text-align: left;\n",
       "    }\n",
       "\n",
       "    .dataframe tbody tr th {\n",
       "        vertical-align: top;\n",
       "    }\n",
       "</style>\n",
       "<table border=\"1\" class=\"dataframe\">\n",
       "  <thead>\n",
       "    <tr style=\"text-align: right;\">\n",
       "      <th></th>\n",
       "      <th>Tweets</th>\n",
       "      <th>len</th>\n",
       "      <th>ID</th>\n",
       "      <th>Date</th>\n",
       "      <th>Source</th>\n",
       "      <th>Likes</th>\n",
       "      <th>Re_Tweets</th>\n",
       "    </tr>\n",
       "  </thead>\n",
       "  <tbody>\n",
       "    <tr>\n",
       "      <th>187</th>\n",
       "      <td>Your bank account a year from now will be dete...</td>\n",
       "      <td>132</td>\n",
       "      <td>892778793835933696</td>\n",
       "      <td>2017-08-02 16:07:06</td>\n",
       "      <td>Buffer</td>\n",
       "      <td>372</td>\n",
       "      <td>202</td>\n",
       "    </tr>\n",
       "  </tbody>\n",
       "</table>\n",
       "</div>"
      ],
      "text/plain": [
       "                                                Tweets  len  \\\n",
       "187  Your bank account a year from now will be dete...  132   \n",
       "\n",
       "                     ID                Date  Source  Likes  Re_Tweets  \n",
       "187  892778793835933696 2017-08-02 16:07:06  Buffer    372        202  "
      ]
     },
     "execution_count": 15,
     "metadata": {},
     "output_type": "execute_result"
    }
   ],
   "source": [
    "df[df['Re_Tweets'] == max_Re_Tweets]"
   ]
  },
  {
   "cell_type": "markdown",
   "metadata": {},
   "source": [
    "### Visualize the likes of the tweets"
   ]
  },
  {
   "cell_type": "code",
   "execution_count": 16,
   "metadata": {
    "collapsed": true
   },
   "outputs": [],
   "source": [
    "import plotly.plotly as py\n",
    "import plotly.graph_objs as go"
   ]
  },
  {
   "cell_type": "code",
   "execution_count": 17,
   "metadata": {},
   "outputs": [],
   "source": [
    "trace = go.Scatter(x=df['Date'], y=df['Likes'])"
   ]
  },
  {
   "cell_type": "code",
   "execution_count": 18,
   "metadata": {},
   "outputs": [
    {
     "data": {
      "text/html": [
       "<iframe id=\"igraph\" scrolling=\"no\" style=\"border:none;\" seamless=\"seamless\" src=\"https://plot.ly/~rojour/272.embed\" height=\"525px\" width=\"100%\"></iframe>"
      ],
      "text/plain": [
       "<plotly.tools.PlotlyDisplay object>"
      ]
     },
     "execution_count": 18,
     "metadata": {},
     "output_type": "execute_result"
    }
   ],
   "source": [
    "data = [trace]\n",
    "py.iplot(data, filename='line')"
   ]
  },
  {
   "cell_type": "markdown",
   "metadata": {},
   "source": [
    "### Compare the likes with the re_tweets"
   ]
  },
  {
   "cell_type": "code",
   "execution_count": 19,
   "metadata": {},
   "outputs": [
    {
     "data": {
      "text/html": [
       "<iframe id=\"igraph\" scrolling=\"no\" style=\"border:none;\" seamless=\"seamless\" src=\"https://plot.ly/~rojour/274.embed\" height=\"525px\" width=\"100%\"></iframe>"
      ],
      "text/plain": [
       "<plotly.tools.PlotlyDisplay object>"
      ]
     },
     "execution_count": 19,
     "metadata": {},
     "output_type": "execute_result"
    }
   ],
   "source": [
    "trace1 = go.Scatter(x=df['Date'], y=df['Likes'], name='Likes')\n",
    "trace2 = go.Scatter(x=df['Date'], y=df['Re_Tweets'], name='Re-Tweets')\n",
    "\n",
    "\n",
    "\n",
    "data = [trace1, trace2]\n",
    "py.iplot(data, filename='2line')"
   ]
  },
  {
   "cell_type": "markdown",
   "metadata": {},
   "source": [
    "### Sources for sending tweets"
   ]
  },
  {
   "cell_type": "code",
   "execution_count": 20,
   "metadata": {},
   "outputs": [
    {
     "data": {
      "text/plain": [
       "array(['Buffer', 'Twitter Web Client', 'SumAll'], dtype=object)"
      ]
     },
     "execution_count": 20,
     "metadata": {},
     "output_type": "execute_result"
    }
   ],
   "source": [
    "df['Source'].unique()"
   ]
  },
  {
   "cell_type": "code",
   "execution_count": 21,
   "metadata": {},
   "outputs": [
    {
     "data": {
      "text/plain": [
       "166"
      ]
     },
     "execution_count": 21,
     "metadata": {},
     "output_type": "execute_result"
    }
   ],
   "source": [
    "df['Source'][df['Source']=='Buffer'].count()"
   ]
  },
  {
   "cell_type": "code",
   "execution_count": null,
   "metadata": {
    "collapsed": true
   },
   "outputs": [],
   "source": []
  },
  {
   "cell_type": "markdown",
   "metadata": {},
   "source": [
    "# Get sentiment of the tweets"
   ]
  },
  {
   "cell_type": "code",
   "execution_count": 22,
   "metadata": {
    "collapsed": true
   },
   "outputs": [],
   "source": [
    "import re"
   ]
  },
  {
   "cell_type": "markdown",
   "metadata": {},
   "source": [
    "### First, we need to clean the text"
   ]
  },
  {
   "cell_type": "code",
   "execution_count": 23,
   "metadata": {
    "collapsed": true
   },
   "outputs": [],
   "source": [
    "def clean_tweet(tweet):\n",
    "    '''\n",
    "    Utility function to clean tweet text by removing links, special characters\n",
    "    using simple regex statements.\n",
    "    '''\n",
    "    return ' '.join(re.sub(\"(@[A-Za-z0-9]+)|([^0-9A-Za-z \\t])|(\\w+:\\/\\/\\S+)\", \" \", tweet).split())"
   ]
  },
  {
   "cell_type": "code",
   "execution_count": 24,
   "metadata": {},
   "outputs": [
    {
     "data": {
      "text/plain": [
       "'Are you a self made success You sure Before you answer you might want to watch today s DarrenDaily here'"
      ]
     },
     "execution_count": 24,
     "metadata": {},
     "output_type": "execute_result"
    }
   ],
   "source": [
    "clean_tweet(df['Tweets'][0])"
   ]
  },
  {
   "cell_type": "code",
   "execution_count": 25,
   "metadata": {
    "collapsed": true
   },
   "outputs": [],
   "source": [
    "df['Clean Tweets'] = np.array([clean_tweet(tweet) for tweet in df['Tweets']])"
   ]
  },
  {
   "cell_type": "code",
   "execution_count": 26,
   "metadata": {},
   "outputs": [
    {
     "data": {
      "text/html": [
       "<div>\n",
       "<style>\n",
       "    .dataframe thead tr:only-child th {\n",
       "        text-align: right;\n",
       "    }\n",
       "\n",
       "    .dataframe thead th {\n",
       "        text-align: left;\n",
       "    }\n",
       "\n",
       "    .dataframe tbody tr th {\n",
       "        vertical-align: top;\n",
       "    }\n",
       "</style>\n",
       "<table border=\"1\" class=\"dataframe\">\n",
       "  <thead>\n",
       "    <tr style=\"text-align: right;\">\n",
       "      <th></th>\n",
       "      <th>Tweets</th>\n",
       "      <th>len</th>\n",
       "      <th>ID</th>\n",
       "      <th>Date</th>\n",
       "      <th>Source</th>\n",
       "      <th>Likes</th>\n",
       "      <th>Re_Tweets</th>\n",
       "      <th>Clean Tweets</th>\n",
       "    </tr>\n",
       "  </thead>\n",
       "  <tbody>\n",
       "    <tr>\n",
       "      <th>0</th>\n",
       "      <td>Are you a self-made success? You sure?? Before...</td>\n",
       "      <td>133</td>\n",
       "      <td>913108225788186624</td>\n",
       "      <td>2017-09-27 18:29:00</td>\n",
       "      <td>Buffer</td>\n",
       "      <td>1</td>\n",
       "      <td>0</td>\n",
       "      <td>Are you a self made success You sure Before yo...</td>\n",
       "    </tr>\n",
       "    <tr>\n",
       "      <th>1</th>\n",
       "      <td>Consistency will help you achieve your biggest...</td>\n",
       "      <td>139</td>\n",
       "      <td>913074643711479809</td>\n",
       "      <td>2017-09-27 16:15:33</td>\n",
       "      <td>Buffer</td>\n",
       "      <td>22</td>\n",
       "      <td>9</td>\n",
       "      <td>Consistency will help you achieve your biggest...</td>\n",
       "    </tr>\n",
       "    <tr>\n",
       "      <th>2</th>\n",
       "      <td>Become the powerful &amp;amp; persuasive influence...</td>\n",
       "      <td>144</td>\n",
       "      <td>913042305967362049</td>\n",
       "      <td>2017-09-27 14:07:03</td>\n",
       "      <td>Buffer</td>\n",
       "      <td>14</td>\n",
       "      <td>9</td>\n",
       "      <td>Become the powerful amp persuasive influencer ...</td>\n",
       "    </tr>\n",
       "    <tr>\n",
       "      <th>3</th>\n",
       "      <td>The tools &amp;amp; resources you need to 5x your ...</td>\n",
       "      <td>142</td>\n",
       "      <td>912845002761494528</td>\n",
       "      <td>2017-09-27 01:03:03</td>\n",
       "      <td>Buffer</td>\n",
       "      <td>14</td>\n",
       "      <td>4</td>\n",
       "      <td>The tools amp resources you need to 5x your in...</td>\n",
       "    </tr>\n",
       "    <tr>\n",
       "      <th>4</th>\n",
       "      <td>@ZachFuhr We have reached out over DM!</td>\n",
       "      <td>38</td>\n",
       "      <td>912748902339698688</td>\n",
       "      <td>2017-09-26 18:41:11</td>\n",
       "      <td>Twitter Web Client</td>\n",
       "      <td>0</td>\n",
       "      <td>0</td>\n",
       "      <td>We have reached out over DM</td>\n",
       "    </tr>\n",
       "  </tbody>\n",
       "</table>\n",
       "</div>"
      ],
      "text/plain": [
       "                                              Tweets  len                  ID  \\\n",
       "0  Are you a self-made success? You sure?? Before...  133  913108225788186624   \n",
       "1  Consistency will help you achieve your biggest...  139  913074643711479809   \n",
       "2  Become the powerful &amp; persuasive influence...  144  913042305967362049   \n",
       "3  The tools &amp; resources you need to 5x your ...  142  912845002761494528   \n",
       "4             @ZachFuhr We have reached out over DM!   38  912748902339698688   \n",
       "\n",
       "                 Date              Source  Likes  Re_Tweets  \\\n",
       "0 2017-09-27 18:29:00              Buffer      1          0   \n",
       "1 2017-09-27 16:15:33              Buffer     22          9   \n",
       "2 2017-09-27 14:07:03              Buffer     14          9   \n",
       "3 2017-09-27 01:03:03              Buffer     14          4   \n",
       "4 2017-09-26 18:41:11  Twitter Web Client      0          0   \n",
       "\n",
       "                                        Clean Tweets  \n",
       "0  Are you a self made success You sure Before yo...  \n",
       "1  Consistency will help you achieve your biggest...  \n",
       "2  Become the powerful amp persuasive influencer ...  \n",
       "3  The tools amp resources you need to 5x your in...  \n",
       "4                        We have reached out over DM  "
      ]
     },
     "execution_count": 26,
     "metadata": {},
     "output_type": "execute_result"
    }
   ],
   "source": [
    "df.head()"
   ]
  },
  {
   "cell_type": "markdown",
   "metadata": {},
   "source": [
    "### The classify accoding to TextBlob\n",
    "\n",
    "https://textblob.readthedocs.io/en/dev/"
   ]
  },
  {
   "cell_type": "code",
   "execution_count": 27,
   "metadata": {
    "collapsed": true
   },
   "outputs": [],
   "source": [
    "from textblob import TextBlob"
   ]
  },
  {
   "cell_type": "code",
   "execution_count": 28,
   "metadata": {
    "collapsed": true
   },
   "outputs": [],
   "source": [
    "def get_sentiment(clean_tweet):\n",
    "    analysis = TextBlob(clean_tweet)\n",
    "    if analysis.sentiment.polarity > 0:\n",
    "        return 'positive'\n",
    "    elif analysis.sentiment.polarity == 0:\n",
    "        return 'neutral'\n",
    "    else:\n",
    "        return 'negative'"
   ]
  },
  {
   "cell_type": "code",
   "execution_count": 29,
   "metadata": {
    "collapsed": true
   },
   "outputs": [],
   "source": [
    "df['Sentiment'] = np.array([get_sentiment(tweet) for tweet in df['Clean Tweets']])"
   ]
  },
  {
   "cell_type": "code",
   "execution_count": 30,
   "metadata": {},
   "outputs": [
    {
     "data": {
      "text/html": [
       "<div>\n",
       "<style>\n",
       "    .dataframe thead tr:only-child th {\n",
       "        text-align: right;\n",
       "    }\n",
       "\n",
       "    .dataframe thead th {\n",
       "        text-align: left;\n",
       "    }\n",
       "\n",
       "    .dataframe tbody tr th {\n",
       "        vertical-align: top;\n",
       "    }\n",
       "</style>\n",
       "<table border=\"1\" class=\"dataframe\">\n",
       "  <thead>\n",
       "    <tr style=\"text-align: right;\">\n",
       "      <th></th>\n",
       "      <th>Tweets</th>\n",
       "      <th>len</th>\n",
       "      <th>ID</th>\n",
       "      <th>Date</th>\n",
       "      <th>Source</th>\n",
       "      <th>Likes</th>\n",
       "      <th>Re_Tweets</th>\n",
       "      <th>Clean Tweets</th>\n",
       "      <th>Sentiment</th>\n",
       "    </tr>\n",
       "  </thead>\n",
       "  <tbody>\n",
       "    <tr>\n",
       "      <th>0</th>\n",
       "      <td>Are you a self-made success? You sure?? Before...</td>\n",
       "      <td>133</td>\n",
       "      <td>913108225788186624</td>\n",
       "      <td>2017-09-27 18:29:00</td>\n",
       "      <td>Buffer</td>\n",
       "      <td>1</td>\n",
       "      <td>0</td>\n",
       "      <td>Are you a self made success You sure Before yo...</td>\n",
       "      <td>positive</td>\n",
       "    </tr>\n",
       "    <tr>\n",
       "      <th>1</th>\n",
       "      <td>Consistency will help you achieve your biggest...</td>\n",
       "      <td>139</td>\n",
       "      <td>913074643711479809</td>\n",
       "      <td>2017-09-27 16:15:33</td>\n",
       "      <td>Buffer</td>\n",
       "      <td>22</td>\n",
       "      <td>9</td>\n",
       "      <td>Consistency will help you achieve your biggest...</td>\n",
       "      <td>positive</td>\n",
       "    </tr>\n",
       "    <tr>\n",
       "      <th>2</th>\n",
       "      <td>Become the powerful &amp;amp; persuasive influence...</td>\n",
       "      <td>144</td>\n",
       "      <td>913042305967362049</td>\n",
       "      <td>2017-09-27 14:07:03</td>\n",
       "      <td>Buffer</td>\n",
       "      <td>14</td>\n",
       "      <td>9</td>\n",
       "      <td>Become the powerful amp persuasive influencer ...</td>\n",
       "      <td>positive</td>\n",
       "    </tr>\n",
       "    <tr>\n",
       "      <th>3</th>\n",
       "      <td>The tools &amp;amp; resources you need to 5x your ...</td>\n",
       "      <td>142</td>\n",
       "      <td>912845002761494528</td>\n",
       "      <td>2017-09-27 01:03:03</td>\n",
       "      <td>Buffer</td>\n",
       "      <td>14</td>\n",
       "      <td>4</td>\n",
       "      <td>The tools amp resources you need to 5x your in...</td>\n",
       "      <td>negative</td>\n",
       "    </tr>\n",
       "    <tr>\n",
       "      <th>4</th>\n",
       "      <td>@ZachFuhr We have reached out over DM!</td>\n",
       "      <td>38</td>\n",
       "      <td>912748902339698688</td>\n",
       "      <td>2017-09-26 18:41:11</td>\n",
       "      <td>Twitter Web Client</td>\n",
       "      <td>0</td>\n",
       "      <td>0</td>\n",
       "      <td>We have reached out over DM</td>\n",
       "      <td>neutral</td>\n",
       "    </tr>\n",
       "  </tbody>\n",
       "</table>\n",
       "</div>"
      ],
      "text/plain": [
       "                                              Tweets  len                  ID  \\\n",
       "0  Are you a self-made success? You sure?? Before...  133  913108225788186624   \n",
       "1  Consistency will help you achieve your biggest...  139  913074643711479809   \n",
       "2  Become the powerful &amp; persuasive influence...  144  913042305967362049   \n",
       "3  The tools &amp; resources you need to 5x your ...  142  912845002761494528   \n",
       "4             @ZachFuhr We have reached out over DM!   38  912748902339698688   \n",
       "\n",
       "                 Date              Source  Likes  Re_Tweets  \\\n",
       "0 2017-09-27 18:29:00              Buffer      1          0   \n",
       "1 2017-09-27 16:15:33              Buffer     22          9   \n",
       "2 2017-09-27 14:07:03              Buffer     14          9   \n",
       "3 2017-09-27 01:03:03              Buffer     14          4   \n",
       "4 2017-09-26 18:41:11  Twitter Web Client      0          0   \n",
       "\n",
       "                                        Clean Tweets Sentiment  \n",
       "0  Are you a self made success You sure Before yo...  positive  \n",
       "1  Consistency will help you achieve your biggest...  positive  \n",
       "2  Become the powerful amp persuasive influencer ...  positive  \n",
       "3  The tools amp resources you need to 5x your in...  negative  \n",
       "4                        We have reached out over DM   neutral  "
      ]
     },
     "execution_count": 30,
     "metadata": {},
     "output_type": "execute_result"
    }
   ],
   "source": [
    "df.head()"
   ]
  },
  {
   "cell_type": "code",
   "execution_count": 31,
   "metadata": {},
   "outputs": [
    {
     "data": {
      "text/html": [
       "<iframe id=\"igraph\" scrolling=\"no\" style=\"border:none;\" seamless=\"seamless\" src=\"https://plot.ly/~rojour/276.embed\" height=\"525px\" width=\"100%\"></iframe>"
      ],
      "text/plain": [
       "<plotly.tools.PlotlyDisplay object>"
      ]
     },
     "execution_count": 31,
     "metadata": {},
     "output_type": "execute_result"
    }
   ],
   "source": [
    "data = [go.Bar(\n",
    "    x = ['negative', 'neutral', 'positve'],\n",
    "    y = [df['Sentiment'][df['Sentiment']=='negative'].count(), \n",
    "         df['Sentiment'][df['Sentiment']=='neutral'].count(), \n",
    "         df['Sentiment'][df['Sentiment']=='positive'].count()]\n",
    "        )]\n",
    "\n",
    "py.iplot(data, filename='bars')"
   ]
  },
  {
   "cell_type": "code",
   "execution_count": 32,
   "metadata": {},
   "outputs": [
    {
     "data": {
      "text/html": [
       "<div>\n",
       "<style>\n",
       "    .dataframe thead tr:only-child th {\n",
       "        text-align: right;\n",
       "    }\n",
       "\n",
       "    .dataframe thead th {\n",
       "        text-align: left;\n",
       "    }\n",
       "\n",
       "    .dataframe tbody tr th {\n",
       "        vertical-align: top;\n",
       "    }\n",
       "</style>\n",
       "<table border=\"1\" class=\"dataframe\">\n",
       "  <thead>\n",
       "    <tr style=\"text-align: right;\">\n",
       "      <th></th>\n",
       "      <th>Tweets</th>\n",
       "      <th>len</th>\n",
       "      <th>ID</th>\n",
       "      <th>Date</th>\n",
       "      <th>Source</th>\n",
       "      <th>Likes</th>\n",
       "      <th>Re_Tweets</th>\n",
       "      <th>Clean Tweets</th>\n",
       "      <th>Sentiment</th>\n",
       "    </tr>\n",
       "  </thead>\n",
       "  <tbody>\n",
       "    <tr>\n",
       "      <th>3</th>\n",
       "      <td>The tools &amp;amp; resources you need to 5x your ...</td>\n",
       "      <td>142</td>\n",
       "      <td>912845002761494528</td>\n",
       "      <td>2017-09-27 01:03:03</td>\n",
       "      <td>Buffer</td>\n",
       "      <td>14</td>\n",
       "      <td>4</td>\n",
       "      <td>The tools amp resources you need to 5x your in...</td>\n",
       "      <td>negative</td>\n",
       "    </tr>\n",
       "    <tr>\n",
       "      <th>27</th>\n",
       "      <td>Where to point your attention when the goings ...</td>\n",
       "      <td>80</td>\n",
       "      <td>910536299890843648</td>\n",
       "      <td>2017-09-20 16:09:05</td>\n",
       "      <td>Buffer</td>\n",
       "      <td>10</td>\n",
       "      <td>3</td>\n",
       "      <td>Where to point your attention when the goings ...</td>\n",
       "      <td>negative</td>\n",
       "    </tr>\n",
       "    <tr>\n",
       "      <th>41</th>\n",
       "      <td>@ryan_alling Nothing like a little R&amp;amp;R ;)</td>\n",
       "      <td>45</td>\n",
       "      <td>908777919941566464</td>\n",
       "      <td>2017-09-15 19:41:55</td>\n",
       "      <td>Twitter Web Client</td>\n",
       "      <td>1</td>\n",
       "      <td>1</td>\n",
       "      <td>alling Nothing like a little R amp R</td>\n",
       "      <td>negative</td>\n",
       "    </tr>\n",
       "    <tr>\n",
       "      <th>42</th>\n",
       "      <td>“If you are not willing to risk the unusual, y...</td>\n",
       "      <td>97</td>\n",
       "      <td>908753293630951424</td>\n",
       "      <td>2017-09-15 18:04:03</td>\n",
       "      <td>Buffer</td>\n",
       "      <td>124</td>\n",
       "      <td>52</td>\n",
       "      <td>If you are not willing to risk the unusual you...</td>\n",
       "      <td>negative</td>\n",
       "    </tr>\n",
       "    <tr>\n",
       "      <th>55</th>\n",
       "      <td>New blog is up and running! Check it out and l...</td>\n",
       "      <td>132</td>\n",
       "      <td>907669157839118336</td>\n",
       "      <td>2017-09-12 18:16:05</td>\n",
       "      <td>Buffer</td>\n",
       "      <td>13</td>\n",
       "      <td>7</td>\n",
       "      <td>New blog is up and running Check it out and le...</td>\n",
       "      <td>negative</td>\n",
       "    </tr>\n",
       "    <tr>\n",
       "      <th>70</th>\n",
       "      <td>Don't make this common mistake when it comes t...</td>\n",
       "      <td>119</td>\n",
       "      <td>905493332117377024</td>\n",
       "      <td>2017-09-06 18:10:08</td>\n",
       "      <td>Buffer</td>\n",
       "      <td>26</td>\n",
       "      <td>16</td>\n",
       "      <td>Don t make this common mistake when it comes t...</td>\n",
       "      <td>negative</td>\n",
       "    </tr>\n",
       "    <tr>\n",
       "      <th>74</th>\n",
       "      <td>Find out the 8 TRAGIC mistakes most entreprene...</td>\n",
       "      <td>125</td>\n",
       "      <td>905133712664354817</td>\n",
       "      <td>2017-09-05 18:21:08</td>\n",
       "      <td>Buffer</td>\n",
       "      <td>13</td>\n",
       "      <td>5</td>\n",
       "      <td>Find out the 8 TRAGIC mistakes most entreprene...</td>\n",
       "      <td>negative</td>\n",
       "    </tr>\n",
       "    <tr>\n",
       "      <th>84</th>\n",
       "      <td>How are things for you lately? Need a reset? U...</td>\n",
       "      <td>140</td>\n",
       "      <td>903618991809339393</td>\n",
       "      <td>2017-09-01 14:02:10</td>\n",
       "      <td>Buffer</td>\n",
       "      <td>45</td>\n",
       "      <td>12</td>\n",
       "      <td>How are things for you lately Need a reset Use...</td>\n",
       "      <td>negative</td>\n",
       "    </tr>\n",
       "    <tr>\n",
       "      <th>110</th>\n",
       "      <td>Get the 8 tragic mistakes most entrepreneurs m...</td>\n",
       "      <td>128</td>\n",
       "      <td>900725140698345472</td>\n",
       "      <td>2017-08-24 14:23:02</td>\n",
       "      <td>Buffer</td>\n",
       "      <td>6</td>\n",
       "      <td>3</td>\n",
       "      <td>Get the 8 tragic mistakes most entrepreneurs m...</td>\n",
       "      <td>negative</td>\n",
       "    </tr>\n",
       "    <tr>\n",
       "      <th>118</th>\n",
       "      <td>5 ways to get used to being uncomfortable, ft....</td>\n",
       "      <td>99</td>\n",
       "      <td>900028052033466368</td>\n",
       "      <td>2017-08-22 16:13:03</td>\n",
       "      <td>Buffer</td>\n",
       "      <td>12</td>\n",
       "      <td>7</td>\n",
       "      <td>5 ways to get used to being uncomfortable ft D...</td>\n",
       "      <td>negative</td>\n",
       "    </tr>\n",
       "    <tr>\n",
       "      <th>121</th>\n",
       "      <td>Don't be INSANE! https://t.co/kGsTWz1i7I</td>\n",
       "      <td>40</td>\n",
       "      <td>899696415617712132</td>\n",
       "      <td>2017-08-21 18:15:15</td>\n",
       "      <td>Buffer</td>\n",
       "      <td>38</td>\n",
       "      <td>23</td>\n",
       "      <td>Don t be INSANE</td>\n",
       "      <td>negative</td>\n",
       "    </tr>\n",
       "    <tr>\n",
       "      <th>127</th>\n",
       "      <td>DarrenDaily STAR series ft. April Roberts... \\...</td>\n",
       "      <td>140</td>\n",
       "      <td>898610463977611265</td>\n",
       "      <td>2017-08-18 18:20:04</td>\n",
       "      <td>Buffer</td>\n",
       "      <td>9</td>\n",
       "      <td>2</td>\n",
       "      <td>DarrenDaily STAR series ft April Roberts Falli...</td>\n",
       "      <td>negative</td>\n",
       "    </tr>\n",
       "    <tr>\n",
       "      <th>129</th>\n",
       "      <td>Take one small step to move yourself closer to...</td>\n",
       "      <td>109</td>\n",
       "      <td>898276754527334400</td>\n",
       "      <td>2017-08-17 20:14:02</td>\n",
       "      <td>Buffer</td>\n",
       "      <td>35</td>\n",
       "      <td>10</td>\n",
       "      <td>Take one small step to move yourself closer to...</td>\n",
       "      <td>negative</td>\n",
       "    </tr>\n",
       "    <tr>\n",
       "      <th>139</th>\n",
       "      <td>Fail forward this week! #BetterEveryDay https:...</td>\n",
       "      <td>63</td>\n",
       "      <td>897821502384611328</td>\n",
       "      <td>2017-08-16 14:05:01</td>\n",
       "      <td>Buffer</td>\n",
       "      <td>40</td>\n",
       "      <td>13</td>\n",
       "      <td>Fail forward this week BetterEveryDay</td>\n",
       "      <td>negative</td>\n",
       "    </tr>\n",
       "    <tr>\n",
       "      <th>143</th>\n",
       "      <td>Choose to be among the world class few, rather...</td>\n",
       "      <td>86</td>\n",
       "      <td>897460871429054466</td>\n",
       "      <td>2017-08-15 14:12:00</td>\n",
       "      <td>Buffer</td>\n",
       "      <td>82</td>\n",
       "      <td>32</td>\n",
       "      <td>Choose to be among the world class few rather ...</td>\n",
       "      <td>negative</td>\n",
       "    </tr>\n",
       "    <tr>\n",
       "      <th>146</th>\n",
       "      <td>\"What lies behind us and what lies before us a...</td>\n",
       "      <td>118</td>\n",
       "      <td>897130446395518976</td>\n",
       "      <td>2017-08-14 16:19:00</td>\n",
       "      <td>Buffer</td>\n",
       "      <td>107</td>\n",
       "      <td>45</td>\n",
       "      <td>What lies behind us and what lies before us ar...</td>\n",
       "      <td>negative</td>\n",
       "    </tr>\n",
       "    <tr>\n",
       "      <th>157</th>\n",
       "      <td>I don't suggest you cut out EVERY bad habit in...</td>\n",
       "      <td>111</td>\n",
       "      <td>895317780156751872</td>\n",
       "      <td>2017-08-09 16:16:07</td>\n",
       "      <td>Buffer</td>\n",
       "      <td>14</td>\n",
       "      <td>6</td>\n",
       "      <td>I don t suggest you cut out EVERY bad habit in...</td>\n",
       "      <td>negative</td>\n",
       "    </tr>\n",
       "    <tr>\n",
       "      <th>162</th>\n",
       "      <td>Arrghhhh!  \\nThere’s a reason I have this sill...</td>\n",
       "      <td>131</td>\n",
       "      <td>894955651914510340</td>\n",
       "      <td>2017-08-08 16:17:09</td>\n",
       "      <td>Buffer</td>\n",
       "      <td>8</td>\n",
       "      <td>4</td>\n",
       "      <td>Arrghhhh There s a reason I have this silly th...</td>\n",
       "      <td>negative</td>\n",
       "    </tr>\n",
       "    <tr>\n",
       "      <th>166</th>\n",
       "      <td>@c21sylviag Hi Sylvia. Unfortunately there is ...</td>\n",
       "      <td>94</td>\n",
       "      <td>894599765890965504</td>\n",
       "      <td>2017-08-07 16:42:59</td>\n",
       "      <td>Twitter Web Client</td>\n",
       "      <td>0</td>\n",
       "      <td>0</td>\n",
       "      <td>Hi Sylvia Unfortunately there is no save optio...</td>\n",
       "      <td>negative</td>\n",
       "    </tr>\n",
       "    <tr>\n",
       "      <th>171</th>\n",
       "      <td>We all have the same 24/7/365... \"not enough t...</td>\n",
       "      <td>137</td>\n",
       "      <td>893534522414952448</td>\n",
       "      <td>2017-08-04 18:10:05</td>\n",
       "      <td>Buffer</td>\n",
       "      <td>56</td>\n",
       "      <td>31</td>\n",
       "      <td>We all have the same 24 7 365 not enough time ...</td>\n",
       "      <td>negative</td>\n",
       "    </tr>\n",
       "    <tr>\n",
       "      <th>173</th>\n",
       "      <td>You lose one out of five for being too aggress...</td>\n",
       "      <td>94</td>\n",
       "      <td>893506850875994117</td>\n",
       "      <td>2017-08-04 16:20:08</td>\n",
       "      <td>Buffer</td>\n",
       "      <td>55</td>\n",
       "      <td>26</td>\n",
       "      <td>You lose one out of five for being too aggress...</td>\n",
       "      <td>negative</td>\n",
       "    </tr>\n",
       "    <tr>\n",
       "      <th>182</th>\n",
       "      <td>@bobkalo Hey Bob, I am so sorry you've had som...</td>\n",
       "      <td>122</td>\n",
       "      <td>893134103565918210</td>\n",
       "      <td>2017-08-03 15:38:58</td>\n",
       "      <td>Twitter Web Client</td>\n",
       "      <td>0</td>\n",
       "      <td>0</td>\n",
       "      <td>Hey Bob I am so sorry you ve had some trouble ...</td>\n",
       "      <td>negative</td>\n",
       "    </tr>\n",
       "    <tr>\n",
       "      <th>191</th>\n",
       "      <td>Dreams come with strings attached: hard work, ...</td>\n",
       "      <td>121</td>\n",
       "      <td>892418154697281536</td>\n",
       "      <td>2017-08-01 16:14:03</td>\n",
       "      <td>Buffer</td>\n",
       "      <td>89</td>\n",
       "      <td>36</td>\n",
       "      <td>Dreams come with strings attached hard work de...</td>\n",
       "      <td>negative</td>\n",
       "    </tr>\n",
       "    <tr>\n",
       "      <th>194</th>\n",
       "      <td>Life is either about finding a way or coming u...</td>\n",
       "      <td>86</td>\n",
       "      <td>892129244385619969</td>\n",
       "      <td>2017-07-31 21:06:01</td>\n",
       "      <td>Buffer</td>\n",
       "      <td>116</td>\n",
       "      <td>54</td>\n",
       "      <td>Life is either about finding a way or coming u...</td>\n",
       "      <td>negative</td>\n",
       "    </tr>\n",
       "    <tr>\n",
       "      <th>195</th>\n",
       "      <td>Have you tuned into DarrenDaily over the past ...</td>\n",
       "      <td>133</td>\n",
       "      <td>892098546870222849</td>\n",
       "      <td>2017-07-31 19:04:02</td>\n",
       "      <td>Buffer</td>\n",
       "      <td>12</td>\n",
       "      <td>4</td>\n",
       "      <td>Have you tuned into DarrenDaily over the past ...</td>\n",
       "      <td>negative</td>\n",
       "    </tr>\n",
       "  </tbody>\n",
       "</table>\n",
       "</div>"
      ],
      "text/plain": [
       "                                                Tweets  len  \\\n",
       "3    The tools &amp; resources you need to 5x your ...  142   \n",
       "27   Where to point your attention when the goings ...   80   \n",
       "41       @ryan_alling Nothing like a little R&amp;R ;)   45   \n",
       "42   “If you are not willing to risk the unusual, y...   97   \n",
       "55   New blog is up and running! Check it out and l...  132   \n",
       "70   Don't make this common mistake when it comes t...  119   \n",
       "74   Find out the 8 TRAGIC mistakes most entreprene...  125   \n",
       "84   How are things for you lately? Need a reset? U...  140   \n",
       "110  Get the 8 tragic mistakes most entrepreneurs m...  128   \n",
       "118  5 ways to get used to being uncomfortable, ft....   99   \n",
       "121           Don't be INSANE! https://t.co/kGsTWz1i7I   40   \n",
       "127  DarrenDaily STAR series ft. April Roberts... \\...  140   \n",
       "129  Take one small step to move yourself closer to...  109   \n",
       "139  Fail forward this week! #BetterEveryDay https:...   63   \n",
       "143  Choose to be among the world class few, rather...   86   \n",
       "146  \"What lies behind us and what lies before us a...  118   \n",
       "157  I don't suggest you cut out EVERY bad habit in...  111   \n",
       "162  Arrghhhh!  \\nThere’s a reason I have this sill...  131   \n",
       "166  @c21sylviag Hi Sylvia. Unfortunately there is ...   94   \n",
       "171  We all have the same 24/7/365... \"not enough t...  137   \n",
       "173  You lose one out of five for being too aggress...   94   \n",
       "182  @bobkalo Hey Bob, I am so sorry you've had som...  122   \n",
       "191  Dreams come with strings attached: hard work, ...  121   \n",
       "194  Life is either about finding a way or coming u...   86   \n",
       "195  Have you tuned into DarrenDaily over the past ...  133   \n",
       "\n",
       "                     ID                Date              Source  Likes  \\\n",
       "3    912845002761494528 2017-09-27 01:03:03              Buffer     14   \n",
       "27   910536299890843648 2017-09-20 16:09:05              Buffer     10   \n",
       "41   908777919941566464 2017-09-15 19:41:55  Twitter Web Client      1   \n",
       "42   908753293630951424 2017-09-15 18:04:03              Buffer    124   \n",
       "55   907669157839118336 2017-09-12 18:16:05              Buffer     13   \n",
       "70   905493332117377024 2017-09-06 18:10:08              Buffer     26   \n",
       "74   905133712664354817 2017-09-05 18:21:08              Buffer     13   \n",
       "84   903618991809339393 2017-09-01 14:02:10              Buffer     45   \n",
       "110  900725140698345472 2017-08-24 14:23:02              Buffer      6   \n",
       "118  900028052033466368 2017-08-22 16:13:03              Buffer     12   \n",
       "121  899696415617712132 2017-08-21 18:15:15              Buffer     38   \n",
       "127  898610463977611265 2017-08-18 18:20:04              Buffer      9   \n",
       "129  898276754527334400 2017-08-17 20:14:02              Buffer     35   \n",
       "139  897821502384611328 2017-08-16 14:05:01              Buffer     40   \n",
       "143  897460871429054466 2017-08-15 14:12:00              Buffer     82   \n",
       "146  897130446395518976 2017-08-14 16:19:00              Buffer    107   \n",
       "157  895317780156751872 2017-08-09 16:16:07              Buffer     14   \n",
       "162  894955651914510340 2017-08-08 16:17:09              Buffer      8   \n",
       "166  894599765890965504 2017-08-07 16:42:59  Twitter Web Client      0   \n",
       "171  893534522414952448 2017-08-04 18:10:05              Buffer     56   \n",
       "173  893506850875994117 2017-08-04 16:20:08              Buffer     55   \n",
       "182  893134103565918210 2017-08-03 15:38:58  Twitter Web Client      0   \n",
       "191  892418154697281536 2017-08-01 16:14:03              Buffer     89   \n",
       "194  892129244385619969 2017-07-31 21:06:01              Buffer    116   \n",
       "195  892098546870222849 2017-07-31 19:04:02              Buffer     12   \n",
       "\n",
       "     Re_Tweets                                       Clean Tweets Sentiment  \n",
       "3            4  The tools amp resources you need to 5x your in...  negative  \n",
       "27           3  Where to point your attention when the goings ...  negative  \n",
       "41           1               alling Nothing like a little R amp R  negative  \n",
       "42          52  If you are not willing to risk the unusual you...  negative  \n",
       "55           7  New blog is up and running Check it out and le...  negative  \n",
       "70          16  Don t make this common mistake when it comes t...  negative  \n",
       "74           5  Find out the 8 TRAGIC mistakes most entreprene...  negative  \n",
       "84          12  How are things for you lately Need a reset Use...  negative  \n",
       "110          3  Get the 8 tragic mistakes most entrepreneurs m...  negative  \n",
       "118          7  5 ways to get used to being uncomfortable ft D...  negative  \n",
       "121         23                                    Don t be INSANE  negative  \n",
       "127          2  DarrenDaily STAR series ft April Roberts Falli...  negative  \n",
       "129         10  Take one small step to move yourself closer to...  negative  \n",
       "139         13              Fail forward this week BetterEveryDay  negative  \n",
       "143         32  Choose to be among the world class few rather ...  negative  \n",
       "146         45  What lies behind us and what lies before us ar...  negative  \n",
       "157          6  I don t suggest you cut out EVERY bad habit in...  negative  \n",
       "162          4  Arrghhhh There s a reason I have this silly th...  negative  \n",
       "166          0  Hi Sylvia Unfortunately there is no save optio...  negative  \n",
       "171         31  We all have the same 24 7 365 not enough time ...  negative  \n",
       "173         26  You lose one out of five for being too aggress...  negative  \n",
       "182          0  Hey Bob I am so sorry you ve had some trouble ...  negative  \n",
       "191         36  Dreams come with strings attached hard work de...  negative  \n",
       "194         54  Life is either about finding a way or coming u...  negative  \n",
       "195          4  Have you tuned into DarrenDaily over the past ...  negative  "
      ]
     },
     "execution_count": 32,
     "metadata": {},
     "output_type": "execute_result"
    }
   ],
   "source": [
    "df[df['Sentiment']=='negative']"
   ]
  },
  {
   "cell_type": "markdown",
   "metadata": {},
   "source": [
    "### From here other analysis can be made, like correlate the sentiment with likes and re-tweets."
   ]
  },
  {
   "cell_type": "code",
   "execution_count": 33,
   "metadata": {},
   "outputs": [
    {
     "data": {
      "text/html": [
       "<div>\n",
       "<style>\n",
       "    .dataframe thead tr:only-child th {\n",
       "        text-align: right;\n",
       "    }\n",
       "\n",
       "    .dataframe thead th {\n",
       "        text-align: left;\n",
       "    }\n",
       "\n",
       "    .dataframe tbody tr th {\n",
       "        vertical-align: top;\n",
       "    }\n",
       "</style>\n",
       "<table border=\"1\" class=\"dataframe\">\n",
       "  <thead>\n",
       "    <tr style=\"text-align: right;\">\n",
       "      <th></th>\n",
       "      <th>len</th>\n",
       "      <th>ID</th>\n",
       "      <th>Likes</th>\n",
       "      <th>Re_Tweets</th>\n",
       "    </tr>\n",
       "    <tr>\n",
       "      <th>Sentiment</th>\n",
       "      <th></th>\n",
       "      <th></th>\n",
       "      <th></th>\n",
       "      <th></th>\n",
       "    </tr>\n",
       "  </thead>\n",
       "  <tbody>\n",
       "    <tr>\n",
       "      <th>negative</th>\n",
       "      <td>107.680000</td>\n",
       "      <td>8.997709e+17</td>\n",
       "      <td>37.000000</td>\n",
       "      <td>15.840000</td>\n",
       "    </tr>\n",
       "    <tr>\n",
       "      <th>neutral</th>\n",
       "      <td>93.626866</td>\n",
       "      <td>9.034466e+17</td>\n",
       "      <td>37.656716</td>\n",
       "      <td>17.119403</td>\n",
       "    </tr>\n",
       "    <tr>\n",
       "      <th>positive</th>\n",
       "      <td>105.592593</td>\n",
       "      <td>9.018476e+17</td>\n",
       "      <td>31.537037</td>\n",
       "      <td>11.722222</td>\n",
       "    </tr>\n",
       "  </tbody>\n",
       "</table>\n",
       "</div>"
      ],
      "text/plain": [
       "                  len            ID      Likes  Re_Tweets\n",
       "Sentiment                                                \n",
       "negative   107.680000  8.997709e+17  37.000000  15.840000\n",
       "neutral     93.626866  9.034466e+17  37.656716  17.119403\n",
       "positive   105.592593  9.018476e+17  31.537037  11.722222"
      ]
     },
     "execution_count": 33,
     "metadata": {},
     "output_type": "execute_result"
    }
   ],
   "source": [
    "df.groupby('Sentiment', axis=0).mean()"
   ]
  },
  {
   "cell_type": "markdown",
   "metadata": {},
   "source": [
    "#### The average likes for a tweet with a negative connotation is almost 38, while the ones with a positive one, are only 32.\n",
    "#### A similar effect happens with the re-tweets."
   ]
  },
  {
   "cell_type": "markdown",
   "metadata": {},
   "source": [
    "### ..."
   ]
  },
  {
   "cell_type": "code",
   "execution_count": null,
   "metadata": {
    "collapsed": true
   },
   "outputs": [],
   "source": []
  }
 ],
 "metadata": {
  "kernelspec": {
   "display_name": "Python 3",
   "language": "python",
   "name": "python3"
  },
  "language_info": {
   "codemirror_mode": {
    "name": "ipython",
    "version": 3
   },
   "file_extension": ".py",
   "mimetype": "text/x-python",
   "name": "python",
   "nbconvert_exporter": "python",
   "pygments_lexer": "ipython3",
   "version": "3.5.2"
  }
 },
 "nbformat": 4,
 "nbformat_minor": 2
}
