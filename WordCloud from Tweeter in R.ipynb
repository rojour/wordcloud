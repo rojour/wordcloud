{
 "cells": [
  {
   "cell_type": "code",
   "execution_count": null,
   "metadata": {
    "collapsed": true
   },
   "outputs": [],
   "source": [
    "install.packages(\"twitteR\")"
   ]
  },
  {
   "cell_type": "code",
   "execution_count": null,
   "metadata": {
    "collapsed": true
   },
   "outputs": [],
   "source": [
    "install.packages(\"ROAuth\")"
   ]
  },
  {
   "cell_type": "code",
   "execution_count": null,
   "metadata": {
    "collapsed": true
   },
   "outputs": [],
   "source": [
    "install.packages(\"stringr\")"
   ]
  },
  {
   "cell_type": "code",
   "execution_count": null,
   "metadata": {
    "collapsed": true
   },
   "outputs": [],
   "source": [
    "install.packages(\"tm\")"
   ]
  },
  {
   "cell_type": "code",
   "execution_count": null,
   "metadata": {
    "collapsed": true
   },
   "outputs": [],
   "source": [
    "install.packages(\"wordcloud\")"
   ]
  },
  {
   "cell_type": "code",
   "execution_count": 1,
   "metadata": {},
   "outputs": [
    {
     "name": "stderr",
     "output_type": "stream",
     "text": [
      "Loading required package: NLP\n",
      "Loading required package: RColorBrewer\n"
     ]
    }
   ],
   "source": [
    "library(twitteR)\n",
    "library(ROAuth)\n",
    "library(stringr)\n",
    "library(tm)\n",
    "library(wordcloud)"
   ]
  },
  {
   "cell_type": "code",
   "execution_count": null,
   "metadata": {
    "collapsed": true
   },
   "outputs": [],
   "source": [
    "credentials <- list(\"consumerKey\"=\"kIfyYdxTpAdn201jTngWDG06E\", \"consumerSecret\"=\"PGELl3ticAMTOMtZm2qbpF2EK8jpp1vnRLIA8P53V8Ctp99sUx\", \"oauthKey\"=\"500966533-Ojcp3bcWdtXZiG8eGR5N1Y3514eZCTcKsaFVT3pv\", \"oauthSecret\"=\"38jdrYT2eSefS5GrU4q6sw8oJiYmQ5FkProK7abMdUzIK\")"
   ]
  },
  {
   "cell_type": "code",
   "execution_count": null,
   "metadata": {
    "collapsed": true
   },
   "outputs": [],
   "source": [
    "setup_twitter_oauth(credentials$consumerKey, credentials$consumerSecret, credentials$oauthKey, credentials$oauthSecret)"
   ]
  },
  {
   "cell_type": "code",
   "execution_count": null,
   "metadata": {
    "collapsed": true
   },
   "outputs": [],
   "source": [
    "screenName <- c('AndrewYNg', 'DARRENHARDY')"
   ]
  },
  {
   "cell_type": "code",
   "execution_count": null,
   "metadata": {
    "collapsed": true
   },
   "outputs": [],
   "source": [
    "checkHandles <- lookupUsers(screenName)"
   ]
  },
  {
   "cell_type": "code",
   "execution_count": null,
   "metadata": {
    "collapsed": true
   },
   "outputs": [],
   "source": [
    "UserData <- lapply(checkHandles, function(x) getUser(x))"
   ]
  },
  {
   "cell_type": "code",
   "execution_count": null,
   "metadata": {
    "collapsed": true
   },
   "outputs": [],
   "source": [
    "UserData <- twListToDF(UserData)"
   ]
  },
  {
   "cell_type": "code",
   "execution_count": null,
   "metadata": {
    "collapsed": true
   },
   "outputs": [],
   "source": [
    "table(UserData$name, UserData$statusesCount)"
   ]
  },
  {
   "cell_type": "code",
   "execution_count": null,
   "metadata": {
    "collapsed": true
   },
   "outputs": [],
   "source": [
    "table(UserData$name, UserData$protected)"
   ]
  },
  {
   "cell_type": "code",
   "execution_count": null,
   "metadata": {
    "collapsed": true
   },
   "outputs": [],
   "source": [
    "usernames <- subset(UserData, protected=FALSE)"
   ]
  },
  {
   "cell_type": "code",
   "execution_count": null,
   "metadata": {
    "collapsed": true
   },
   "outputs": [],
   "source": [
    "usernames <- as.list(usernames$screenName)"
   ]
  },
  {
   "cell_type": "code",
   "execution_count": null,
   "metadata": {
    "collapsed": true
   },
   "outputs": [],
   "source": [
    "x <- userTimeline('AndrewYNg', n=3200, includeRts=FALSE)"
   ]
  },
  {
   "cell_type": "code",
   "execution_count": null,
   "metadata": {
    "collapsed": true
   },
   "outputs": [],
   "source": [
    "NgData <- twListToDF(x)"
   ]
  },
  {
   "cell_type": "code",
   "execution_count": null,
   "metadata": {
    "collapsed": true
   },
   "outputs": [],
   "source": [
    "Sys.sleep(300)"
   ]
  },
  {
   "cell_type": "code",
   "execution_count": null,
   "metadata": {
    "collapsed": true
   },
   "outputs": [],
   "source": [
    "x <- userTimeline(\"DARRENHARDY\", n=3200, includeRts=FALSE)"
   ]
  },
  {
   "cell_type": "code",
   "execution_count": null,
   "metadata": {
    "collapsed": true
   },
   "outputs": [],
   "source": [
    "HardyData <- twListToDF(x)"
   ]
  },
  {
   "cell_type": "code",
   "execution_count": null,
   "metadata": {
    "collapsed": true
   },
   "outputs": [],
   "source": [
    "Ng.df <- data.frame(NgData)\n",
    "Hardy.df <- data.frame(HardyData)"
   ]
  },
  {
   "cell_type": "code",
   "execution_count": null,
   "metadata": {
    "collapsed": true
   },
   "outputs": [],
   "source": [
    "tweets <- data.frame()\n",
    "tweets <- Ng.df\n",
    "tweets <- rbind(tweets,Hardy.df)"
   ]
  },
  {
   "cell_type": "code",
   "execution_count": null,
   "metadata": {
    "collapsed": true
   },
   "outputs": [],
   "source": [
    "#Convert tweets to ASCII\n",
    "iconv(tweets$text, from=\"UTF-8\", to=\"ASCII\", sub=\"\")"
   ]
  },
  {
   "cell_type": "code",
   "execution_count": null,
   "metadata": {
    "collapsed": true
   },
   "outputs": [],
   "source": [
    "#Remove graphic characters\n",
    "tweets$text=str_replace_all(tweets$text,\"[^[:graph:]]\", \" \")"
   ]
  },
  {
   "cell_type": "code",
   "execution_count": null,
   "metadata": {
    "collapsed": true
   },
   "outputs": [],
   "source": [
    "#Remove junk values and replacement words\n",
    "#tweets$text <- gsub(\"[^[:alnum:]///']\", \"\", tweets$text)"
   ]
  },
  {
   "cell_type": "code",
   "execution_count": null,
   "metadata": {
    "collapsed": true
   },
   "outputs": [],
   "source": [
    "#Convert to lower case\n",
    "tweets$text <- tolower(tweets$text)"
   ]
  },
  {
   "cell_type": "code",
   "execution_count": null,
   "metadata": {
    "collapsed": true
   },
   "outputs": [],
   "source": [
    "#Remove retweet keyword\n",
    "tweets$text <- gsub(\"rt\", \"\", tweets$text)"
   ]
  },
  {
   "cell_type": "code",
   "execution_count": null,
   "metadata": {
    "collapsed": true
   },
   "outputs": [],
   "source": [
    "#Remove punctuations\n",
    "tweets$text <- gsub(\"[[:punct:]]\", \"\", tweets$text)"
   ]
  },
  {
   "cell_type": "code",
   "execution_count": null,
   "metadata": {
    "collapsed": true
   },
   "outputs": [],
   "source": [
    "#Remove links\n",
    "tweets$text <- gsub(\"http\\\\w+\", \"\", tweets$text)"
   ]
  },
  {
   "cell_type": "code",
   "execution_count": null,
   "metadata": {
    "collapsed": true
   },
   "outputs": [],
   "source": [
    "#Remove secure links\n",
    "tweets$text <- gsub(\"https\\\\w+\", \"\", tweets$text)"
   ]
  },
  {
   "cell_type": "code",
   "execution_count": null,
   "metadata": {
    "collapsed": true
   },
   "outputs": [],
   "source": [
    "#Remove tabs\n",
    "tweets$text <- gsub(\"[ \\\\t]{2,}\", \"\", tweets$text)"
   ]
  },
  {
   "cell_type": "code",
   "execution_count": null,
   "metadata": {
    "collapsed": true
   },
   "outputs": [],
   "source": [
    "#Remove blank spaces at begining\n",
    "tweets$text <- gsub(\"^ \", \"\", tweets$text)"
   ]
  },
  {
   "cell_type": "code",
   "execution_count": null,
   "metadata": {
    "collapsed": true
   },
   "outputs": [],
   "source": [
    "#Remove blank spaces at the end\n",
    "tweets$text <- gsub(\" $\", \"\", tweets$text)"
   ]
  },
  {
   "cell_type": "code",
   "execution_count": null,
   "metadata": {
    "collapsed": true
   },
   "outputs": [],
   "source": [
    "#Remove usernames\n",
    "tweets$text <- gsub(\"@\\\\w+\", \"\", tweets$text)"
   ]
  },
  {
   "cell_type": "code",
   "execution_count": null,
   "metadata": {
    "collapsed": true
   },
   "outputs": [],
   "source": [
    "library(plyr)"
   ]
  },
  {
   "cell_type": "code",
   "execution_count": null,
   "metadata": {
    "collapsed": true
   },
   "outputs": [],
   "source": [
    "setwd('/Users/rj/Desktop/opinion-lexicon-English')"
   ]
  },
  {
   "cell_type": "code",
   "execution_count": null,
   "metadata": {
    "collapsed": true
   },
   "outputs": [],
   "source": [
    "neg = scan('negative-words.txt', what='character', comment.char=';')\n",
    "neg = c(neg, 'wtf')"
   ]
  },
  {
   "cell_type": "code",
   "execution_count": null,
   "metadata": {
    "collapsed": true
   },
   "outputs": [],
   "source": [
    "pos = scan('positive-words.txt', what='character', comment.char=';')"
   ]
  },
  {
   "cell_type": "code",
   "execution_count": null,
   "metadata": {
    "collapsed": true
   },
   "outputs": [],
   "source": [
    "Ng <- subset(tweets, screenName=='AndrewYNg', select=text)\n",
    "Hardy <- subset(tweets, screenName=='DARRENHARDY', select=text)"
   ]
  },
  {
   "cell_type": "code",
   "execution_count": null,
   "metadata": {
    "collapsed": true
   },
   "outputs": [],
   "source": [
    "word.list.Ng = str_split(Ng$text[7], '\\\\s+')\n",
    "Ng$text[7]"
   ]
  },
  {
   "cell_type": "code",
   "execution_count": null,
   "metadata": {
    "collapsed": true
   },
   "outputs": [],
   "source": [
    "words.Ng = unlist(word.list.Ng)"
   ]
  },
  {
   "cell_type": "code",
   "execution_count": null,
   "metadata": {
    "collapsed": true
   },
   "outputs": [],
   "source": [
    "pos.matches.Ng = sum(!is.na(match(words.Ng, pos)))"
   ]
  },
  {
   "cell_type": "code",
   "execution_count": null,
   "metadata": {
    "collapsed": true
   },
   "outputs": [],
   "source": [
    "pos.matches.Ng"
   ]
  },
  {
   "cell_type": "code",
   "execution_count": null,
   "metadata": {
    "collapsed": true
   },
   "outputs": [],
   "source": [
    "neg.matches.Ng = sum(!is.na(match(words.Ng, neg)))"
   ]
  },
  {
   "cell_type": "code",
   "execution_count": null,
   "metadata": {
    "collapsed": true
   },
   "outputs": [],
   "source": [
    "neg.matches.Ng"
   ]
  },
  {
   "cell_type": "code",
   "execution_count": null,
   "metadata": {
    "collapsed": true
   },
   "outputs": [],
   "source": [
    "Ng <- Corpus(VectorSource(Ng))\n",
    "Hardy <- Corpus(VectorSource(Hardy))"
   ]
  },
  {
   "cell_type": "code",
   "execution_count": null,
   "metadata": {
    "collapsed": true
   },
   "outputs": [],
   "source": [
    "Ng <- tm_map(Ng, removeWords, stopwords(\"en\"))\n",
    "Hardy <- tm_map(Hardy, removeWords, stopwords(\"en\"))"
   ]
  },
  {
   "cell_type": "code",
   "execution_count": null,
   "metadata": {
    "collapsed": true
   },
   "outputs": [],
   "source": [
    "wordcloud(Ng, min.freq=3, scale=c(6,0.5), colors=brewer.pal(8, \"Dark2\"),random.color=FALSE, random.order=FALSE, max.words=110)"
   ]
  },
  {
   "cell_type": "code",
   "execution_count": null,
   "metadata": {
    "collapsed": true
   },
   "outputs": [],
   "source": [
    "wordcloud(Hardy, min.freq=3, scale=c(5,0.5), colors=brewer.pal(9, \"Blues\"),random.color=FALSE, random.order=FALSE, max.words=110)"
   ]
  },
  {
   "cell_type": "code",
   "execution_count": null,
   "metadata": {
    "collapsed": true
   },
   "outputs": [],
   "source": []
  },
  {
   "cell_type": "code",
   "execution_count": null,
   "metadata": {
    "collapsed": true
   },
   "outputs": [],
   "source": [
    "print(NgData)"
   ]
  },
  {
   "cell_type": "code",
   "execution_count": null,
   "metadata": {
    "collapsed": true
   },
   "outputs": [],
   "source": [
    "NgData$sentiment <- NA"
   ]
  },
  {
   "cell_type": "code",
   "execution_count": null,
   "metadata": {
    "collapsed": true
   },
   "outputs": [],
   "source": [
    "NgData$sentiment[7] = pos.matches.Ng - neg.matches.Ng"
   ]
  },
  {
   "cell_type": "code",
   "execution_count": null,
   "metadata": {
    "collapsed": true
   },
   "outputs": [],
   "source": [
    "print(NgData)"
   ]
  },
  {
   "cell_type": "code",
   "execution_count": null,
   "metadata": {
    "collapsed": true
   },
   "outputs": [],
   "source": []
  },
  {
   "cell_type": "code",
   "execution_count": null,
   "metadata": {
    "collapsed": true
   },
   "outputs": [],
   "source": []
  },
  {
   "cell_type": "code",
   "execution_count": null,
   "metadata": {
    "collapsed": true
   },
   "outputs": [],
   "source": []
  },
  {
   "cell_type": "code",
   "execution_count": null,
   "metadata": {
    "collapsed": true
   },
   "outputs": [],
   "source": []
  },
  {
   "cell_type": "code",
   "execution_count": 51,
   "metadata": {
    "collapsed": true
   },
   "outputs": [],
   "source": [
    "l <- readLines('Desktop/card.txt')"
   ]
  },
  {
   "cell_type": "code",
   "execution_count": 52,
   "metadata": {},
   "outputs": [
    {
     "name": "stdout",
     "output_type": "stream",
     "text": [
      "[1] \"I am very thankful that you have chosen me as one the recipients for your award.  As mentioned before, my family and I, are making great efforts for me to continue my education, and we appreciate your contribution to this effort. \"                                                                                                                                                                                                                                                             \n",
      "[2] \"I am currently in third semester.   I am very proud to say that I have done very well in the clinical setting.  My instructor has given me very good evaluations.  My goal is to shine in the clinical setting because that is were I will be working once I graduate from the program.  My instructor advice me to see the clinical experience as a \\xd2job interview,\\xd3 and I can only be thankful for the advices, teachings, and opinions of the ones who have more experience that I do.\"    \n",
      "[3] \"In a year, when I am done with the program, I hope to enter the work field and apply to a BSN program.  My main interest is Point Loma of Nazareth University or Cal State San Marcos.  In the future, I would like to concentrate in the area of Pediatrics, OB, Postpartum, and Forensic nursing.  However, I understand that nursing has a lot of options, and I believe that it is in my best interest to accept and embrace every challenge that is presented in my life.  \"                   \n",
      "[4] \"With the help of my family and people like you, who are supportive, I have no doubt that I will be able to reach any goal that I establish for my future.  I strive every day for my child, who is six, to be proud of his mom and for him to know that all challenges in life only make people stronger.  I want him to learn that the road ahead is not flat, but rather it will be full of obstacles.  One has to learn how to jump them otherwise he will be stuck in the same place forever.  \"\n",
      "[5] \"Again, I cannot thank you enough for the opportunity to accept the award.  \"                                                                                                                                                                                                                                                                                                                                                                                                                        \n",
      "[6] \"Sincerely\"                                                                                                                                                                                                                                                                                                                                                                                                                                                                                          \n"
     ]
    }
   ],
   "source": [
    "print(l)"
   ]
  },
  {
   "cell_type": "code",
   "execution_count": 53,
   "metadata": {
    "collapsed": true
   },
   "outputs": [],
   "source": [
    "words <- data.frame(text=l)"
   ]
  },
  {
   "cell_type": "code",
   "execution_count": 54,
   "metadata": {},
   "outputs": [
    {
     "data": {
      "text/plain": [
       "[1] I am very thankful that you have chosen me as one the recipients for your award.  As mentioned before, my family and I, are making great efforts for me to continue my education, and we appreciate your contribution to this effort.                                                                                                                                                                                                                                                              \n",
       "[2] I am currently in third semester.   I am very proud to say that I have done very well in the clinical setting.  My instructor has given me very good evaluations.  My goal is to shine in the clinical setting because that is were I will be working once I graduate from the program.  My instructor advice me to see the clinical experience as a \\xd2job interview,\\xd3 and I can only be thankful for the advices, teachings, and opinions of the ones who have more experience that I do.    \n",
       "[3] In a year, when I am done with the program, I hope to enter the work field and apply to a BSN program.  My main interest is Point Loma of Nazareth University or Cal State San Marcos.  In the future, I would like to concentrate in the area of Pediatrics, OB, Postpartum, and Forensic nursing.  However, I understand that nursing has a lot of options, and I believe that it is in my best interest to accept and embrace every challenge that is presented in my life.                     \n",
       "[4] With the help of my family and people like you, who are supportive, I have no doubt that I will be able to reach any goal that I establish for my future.  I strive every day for my child, who is six, to be proud of his mom and for him to know that all challenges in life only make people stronger.  I want him to learn that the road ahead is not flat, but rather it will be full of obstacles.  One has to learn how to jump them otherwise he will be stuck in the same place forever.  \n",
       "[5] Again, I cannot thank you enough for the opportunity to accept the award.                                                                                                                                                                                                                                                                                                                                                                                                                          \n",
       "[6] Sincerely                                                                                                                                                                                                                                                                                                                                                                                                                                                                                          \n",
       "6 Levels: Again, I cannot thank you enough for the opportunity to accept the award.   ..."
      ]
     },
     "metadata": {},
     "output_type": "display_data"
    }
   ],
   "source": [
    "words$text"
   ]
  },
  {
   "cell_type": "code",
   "execution_count": 55,
   "metadata": {},
   "outputs": [
    {
     "data": {
      "text/html": [
       "<ol class=list-inline>\n",
       "\t<li><span style=white-space:pre-wrap>'I am very thankful that you have chosen me as one the recipients for your award.  As mentioned before, my family and I, are making great efforts for me to continue my education, and we appreciate your contribution to this effort. '</span></li>\n",
       "\t<li><span style=white-space:pre-wrap>'I am currently in third semester.   I am very proud to say that I have done very well in the clinical setting.  My instructor has given me very good evaluations.  My goal is to shine in the clinical setting because that is were I will be working once I graduate from the program.  My instructor advice me to see the clinical experience as a job interview, and I can only be thankful for the advices, teachings, and opinions of the ones who have more experience that I do.'</span></li>\n",
       "\t<li><span style=white-space:pre-wrap>'In a year, when I am done with the program, I hope to enter the work field and apply to a BSN program.  My main interest is Point Loma of Nazareth University or Cal State San Marcos.  In the future, I would like to concentrate in the area of Pediatrics, OB, Postpartum, and Forensic nursing.  However, I understand that nursing has a lot of options, and I believe that it is in my best interest to accept and embrace every challenge that is presented in my life.  '</span></li>\n",
       "\t<li><span style=white-space:pre-wrap>'With the help of my family and people like you, who are supportive, I have no doubt that I will be able to reach any goal that I establish for my future.  I strive every day for my child, who is six, to be proud of his mom and for him to know that all challenges in life only make people stronger.  I want him to learn that the road ahead is not flat, but rather it will be full of obstacles.  One has to learn how to jump them otherwise he will be stuck in the same place forever.  '</span></li>\n",
       "\t<li><span style=white-space:pre-wrap>'Again, I cannot thank you enough for the opportunity to accept the award.  '</span></li>\n",
       "\t<li>'Sincerely'</li>\n",
       "</ol>\n"
      ],
      "text/latex": [
       "\\begin{enumerate*}\n",
       "\\item 'I am very thankful that you have chosen me as one the recipients for your award.  As mentioned before, my family and I, are making great efforts for me to continue my education, and we appreciate your contribution to this effort. '\n",
       "\\item 'I am currently in third semester.   I am very proud to say that I have done very well in the clinical setting.  My instructor has given me very good evaluations.  My goal is to shine in the clinical setting because that is were I will be working once I graduate from the program.  My instructor advice me to see the clinical experience as a job interview, and I can only be thankful for the advices, teachings, and opinions of the ones who have more experience that I do.'\n",
       "\\item 'In a year, when I am done with the program, I hope to enter the work field and apply to a BSN program.  My main interest is Point Loma of Nazareth University or Cal State San Marcos.  In the future, I would like to concentrate in the area of Pediatrics, OB, Postpartum, and Forensic nursing.  However, I understand that nursing has a lot of options, and I believe that it is in my best interest to accept and embrace every challenge that is presented in my life.  '\n",
       "\\item 'With the help of my family and people like you, who are supportive, I have no doubt that I will be able to reach any goal that I establish for my future.  I strive every day for my child, who is six, to be proud of his mom and for him to know that all challenges in life only make people stronger.  I want him to learn that the road ahead is not flat, but rather it will be full of obstacles.  One has to learn how to jump them otherwise he will be stuck in the same place forever.  '\n",
       "\\item 'Again, I cannot thank you enough for the opportunity to accept the award.  '\n",
       "\\item 'Sincerely'\n",
       "\\end{enumerate*}\n"
      ],
      "text/markdown": [
       "1. <span style=white-space:pre-wrap>'I am very thankful that you have chosen me as one the recipients for your award.  As mentioned before, my family and I, are making great efforts for me to continue my education, and we appreciate your contribution to this effort. '</span>\n",
       "2. <span style=white-space:pre-wrap>'I am currently in third semester.   I am very proud to say that I have done very well in the clinical setting.  My instructor has given me very good evaluations.  My goal is to shine in the clinical setting because that is were I will be working once I graduate from the program.  My instructor advice me to see the clinical experience as a job interview, and I can only be thankful for the advices, teachings, and opinions of the ones who have more experience that I do.'</span>\n",
       "3. <span style=white-space:pre-wrap>'In a year, when I am done with the program, I hope to enter the work field and apply to a BSN program.  My main interest is Point Loma of Nazareth University or Cal State San Marcos.  In the future, I would like to concentrate in the area of Pediatrics, OB, Postpartum, and Forensic nursing.  However, I understand that nursing has a lot of options, and I believe that it is in my best interest to accept and embrace every challenge that is presented in my life.  '</span>\n",
       "4. <span style=white-space:pre-wrap>'With the help of my family and people like you, who are supportive, I have no doubt that I will be able to reach any goal that I establish for my future.  I strive every day for my child, who is six, to be proud of his mom and for him to know that all challenges in life only make people stronger.  I want him to learn that the road ahead is not flat, but rather it will be full of obstacles.  One has to learn how to jump them otherwise he will be stuck in the same place forever.  '</span>\n",
       "5. <span style=white-space:pre-wrap>'Again, I cannot thank you enough for the opportunity to accept the award.  '</span>\n",
       "6. 'Sincerely'\n",
       "\n",
       "\n"
      ],
      "text/plain": [
       "[1] \"I am very thankful that you have chosen me as one the recipients for your award.  As mentioned before, my family and I, are making great efforts for me to continue my education, and we appreciate your contribution to this effort. \"                                                                                                                                                                                                                                                             \n",
       "[2] \"I am currently in third semester.   I am very proud to say that I have done very well in the clinical setting.  My instructor has given me very good evaluations.  My goal is to shine in the clinical setting because that is were I will be working once I graduate from the program.  My instructor advice me to see the clinical experience as a job interview, and I can only be thankful for the advices, teachings, and opinions of the ones who have more experience that I do.\"            \n",
       "[3] \"In a year, when I am done with the program, I hope to enter the work field and apply to a BSN program.  My main interest is Point Loma of Nazareth University or Cal State San Marcos.  In the future, I would like to concentrate in the area of Pediatrics, OB, Postpartum, and Forensic nursing.  However, I understand that nursing has a lot of options, and I believe that it is in my best interest to accept and embrace every challenge that is presented in my life.  \"                   \n",
       "[4] \"With the help of my family and people like you, who are supportive, I have no doubt that I will be able to reach any goal that I establish for my future.  I strive every day for my child, who is six, to be proud of his mom and for him to know that all challenges in life only make people stronger.  I want him to learn that the road ahead is not flat, but rather it will be full of obstacles.  One has to learn how to jump them otherwise he will be stuck in the same place forever.  \"\n",
       "[5] \"Again, I cannot thank you enough for the opportunity to accept the award.  \"                                                                                                                                                                                                                                                                                                                                                                                                                        \n",
       "[6] \"Sincerely\"                                                                                                                                                                                                                                                                                                                                                                                                                                                                                          "
      ]
     },
     "metadata": {},
     "output_type": "display_data"
    }
   ],
   "source": [
    "#Convert tweets to ASCII\n",
    "iconv(words$text, from=\"UTF-8\", to=\"ASCII\", sub=\"\")"
   ]
  },
  {
   "cell_type": "code",
   "execution_count": 56,
   "metadata": {
    "collapsed": true
   },
   "outputs": [],
   "source": [
    "#Remove graphic characters\n",
    "words$text=str_replace_all(words$text,\"[^[:graph:]]\", \" \")"
   ]
  },
  {
   "cell_type": "code",
   "execution_count": 57,
   "metadata": {},
   "outputs": [],
   "source": [
    "#Convert to lower case\n",
    "words$text <- tolower(words$text)"
   ]
  },
  {
   "cell_type": "code",
   "execution_count": 58,
   "metadata": {
    "collapsed": true
   },
   "outputs": [],
   "source": [
    "#Remove punctuations\n",
    "words$text <- gsub(\"[[:punct:]]\", \"\", words$text)"
   ]
  },
  {
   "cell_type": "code",
   "execution_count": 68,
   "metadata": {
    "collapsed": true
   },
   "outputs": [],
   "source": [
    "#Remove tabs\n",
    "words$text <- gsub(\"[ \\\\t]{2,}\", \"\", words$text)"
   ]
  },
  {
   "cell_type": "code",
   "execution_count": 69,
   "metadata": {
    "collapsed": true
   },
   "outputs": [],
   "source": [
    "#Remove blank spaces at begining\n",
    "words$text <- gsub(\"^ \", \"\", words$text)"
   ]
  },
  {
   "cell_type": "code",
   "execution_count": 70,
   "metadata": {
    "collapsed": true
   },
   "outputs": [],
   "source": [
    "#Remove blank spaces at the end\n",
    "words$text <- gsub(\" $\", \"\", words$text)"
   ]
  },
  {
   "cell_type": "code",
   "execution_count": 59,
   "metadata": {},
   "outputs": [
    {
     "name": "stdout",
     "output_type": "stream",
     "text": [
      "[[1]]\n",
      " [1] \"i\"            \"am\"           \"very\"         \"thankful\"     \"that\"        \n",
      " [6] \"you\"          \"have\"         \"chosen\"       \"me\"           \"as\"          \n",
      "[11] \"one\"          \"the\"          \"recipients\"   \"for\"          \"your\"        \n",
      "[16] \"award\"        \"as\"           \"mentioned\"    \"before\"       \"my\"          \n",
      "[21] \"family\"       \"and\"          \"i\"            \"are\"          \"making\"      \n",
      "[26] \"great\"        \"efforts\"      \"for\"          \"me\"           \"to\"          \n",
      "[31] \"continue\"     \"my\"           \"education\"    \"and\"          \"we\"          \n",
      "[36] \"appreciate\"   \"your\"         \"contribution\" \"to\"           \"this\"        \n",
      "[41] \"effort\"       \"\"            \n",
      "\n",
      "[[2]]\n",
      " [1] \"i\"           \"am\"          \"currently\"   \"in\"          \"third\"      \n",
      " [6] \"semester\"    \"i\"           \"am\"          \"very\"        \"proud\"      \n",
      "[11] \"to\"          \"say\"         \"that\"        \"i\"           \"have\"       \n",
      "[16] \"done\"        \"very\"        \"well\"        \"in\"          \"the\"        \n",
      "[21] \"clinical\"    \"setting\"     \"my\"          \"instructor\"  \"has\"        \n",
      "[26] \"given\"       \"me\"          \"very\"        \"good\"        \"evaluations\"\n",
      "[31] \"my\"          \"goal\"        \"is\"          \"to\"          \"shine\"      \n",
      "[36] \"in\"          \"the\"         \"clinical\"    \"setting\"     \"because\"    \n",
      "[41] \"that\"        \"is\"          \"were\"        \"i\"           \"will\"       \n",
      "[46] \"be\"          \"working\"     \"once\"        \"i\"           \"graduate\"   \n",
      "[51] \"from\"        \"the\"         \"program\"     \"my\"          \"instructor\" \n",
      "[56] \"advice\"      \"me\"          \"to\"          \"see\"         \"the\"        \n",
      "[61] \"clinical\"    \"experience\"  \"as\"          \"a\"           \"job\"        \n",
      "[66] \"interview\"   \"and\"         \"i\"           \"can\"         \"only\"       \n",
      "[71] \"be\"          \"thankful\"    \"for\"         \"the\"         \"advices\"    \n",
      "[76] \"teachings\"   \"and\"         \"opinions\"    \"of\"          \"the\"        \n",
      "[81] \"ones\"        \"who\"         \"have\"        \"more\"        \"experience\" \n",
      "[86] \"that\"        \"i\"           \"do\"         \n",
      "\n",
      "[[3]]\n",
      " [1] \"in\"          \"a\"           \"year\"        \"when\"        \"i\"          \n",
      " [6] \"am\"          \"done\"        \"with\"        \"the\"         \"program\"    \n",
      "[11] \"i\"           \"hope\"        \"to\"          \"enter\"       \"the\"        \n",
      "[16] \"work\"        \"field\"       \"and\"         \"apply\"       \"to\"         \n",
      "[21] \"a\"           \"bsn\"         \"program\"     \"my\"          \"main\"       \n",
      "[26] \"interest\"    \"is\"          \"point\"       \"loma\"        \"of\"         \n",
      "[31] \"nazareth\"    \"university\"  \"or\"          \"cal\"         \"state\"      \n",
      "[36] \"san\"         \"marcos\"      \"in\"          \"the\"         \"future\"     \n",
      "[41] \"i\"           \"would\"       \"like\"        \"to\"          \"concentrate\"\n",
      "[46] \"in\"          \"the\"         \"area\"        \"of\"          \"pediatrics\" \n",
      "[51] \"ob\"          \"postpartum\"  \"and\"         \"forensic\"    \"nursing\"    \n",
      "[56] \"however\"     \"i\"           \"understand\"  \"that\"        \"nursing\"    \n",
      "[61] \"has\"         \"a\"           \"lot\"         \"of\"          \"options\"    \n",
      "[66] \"and\"         \"i\"           \"believe\"     \"that\"        \"it\"         \n",
      "[71] \"is\"          \"in\"          \"my\"          \"best\"        \"interest\"   \n",
      "[76] \"to\"          \"accept\"      \"and\"         \"embrace\"     \"every\"      \n",
      "[81] \"challenge\"   \"that\"        \"is\"          \"presented\"   \"in\"         \n",
      "[86] \"my\"          \"life\"        \"\"           \n",
      "\n",
      "[[4]]\n",
      "  [1] \"with\"       \"the\"        \"help\"       \"of\"         \"my\"        \n",
      "  [6] \"family\"     \"and\"        \"people\"     \"like\"       \"you\"       \n",
      " [11] \"who\"        \"are\"        \"supportive\" \"i\"          \"have\"      \n",
      " [16] \"no\"         \"doubt\"      \"that\"       \"i\"          \"will\"      \n",
      " [21] \"be\"         \"able\"       \"to\"         \"reach\"      \"any\"       \n",
      " [26] \"goal\"       \"that\"       \"i\"          \"establish\"  \"for\"       \n",
      " [31] \"my\"         \"future\"     \"i\"          \"strive\"     \"every\"     \n",
      " [36] \"day\"        \"for\"        \"my\"         \"child\"      \"who\"       \n",
      " [41] \"is\"         \"six\"        \"to\"         \"be\"         \"proud\"     \n",
      " [46] \"of\"         \"his\"        \"mom\"        \"and\"        \"for\"       \n",
      " [51] \"him\"        \"to\"         \"know\"       \"that\"       \"all\"       \n",
      " [56] \"challenges\" \"in\"         \"life\"       \"only\"       \"make\"      \n",
      " [61] \"people\"     \"stronger\"   \"i\"          \"want\"       \"him\"       \n",
      " [66] \"to\"         \"learn\"      \"that\"       \"the\"        \"road\"      \n",
      " [71] \"ahead\"      \"is\"         \"not\"        \"flat\"       \"but\"       \n",
      " [76] \"rather\"     \"it\"         \"will\"       \"be\"         \"full\"      \n",
      " [81] \"of\"         \"obstacles\"  \"one\"        \"has\"        \"to\"        \n",
      " [86] \"learn\"      \"how\"        \"to\"         \"jump\"       \"them\"      \n",
      " [91] \"otherwise\"  \"he\"         \"will\"       \"be\"         \"stuck\"     \n",
      " [96] \"in\"         \"the\"        \"same\"       \"place\"      \"forever\"   \n",
      "[101] \"\"          \n",
      "\n",
      "[[5]]\n",
      " [1] \"again\"       \"i\"           \"cannot\"      \"thank\"       \"you\"        \n",
      " [6] \"enough\"      \"for\"         \"the\"         \"opportunity\" \"to\"         \n",
      "[11] \"accept\"      \"the\"         \"award\"       \"\"           \n",
      "\n",
      "[[6]]\n",
      "[1] \"sincerely\"\n",
      "\n"
     ]
    }
   ],
   "source": [
    "wordsList = str_split(words$text, '\\\\s+')\n",
    "print(wordsList)"
   ]
  },
  {
   "cell_type": "code",
   "execution_count": 60,
   "metadata": {},
   "outputs": [],
   "source": [
    "wordsList <- append(wordsList, c(\"Thank_you\", \"Thank_you\", \"Thank_you\", \"Thank_you\", \"Thank_you\"))"
   ]
  },
  {
   "cell_type": "code",
   "execution_count": 61,
   "metadata": {
    "collapsed": true
   },
   "outputs": [],
   "source": [
    "words2 <- unlist(wordsList)"
   ]
  },
  {
   "cell_type": "code",
   "execution_count": 62,
   "metadata": {},
   "outputs": [
    {
     "data": {
      "text/html": [
       "<ol class=list-inline>\n",
       "\t<li>'i'</li>\n",
       "\t<li>'am'</li>\n",
       "\t<li>'very'</li>\n",
       "\t<li>'thankful'</li>\n",
       "\t<li>'that'</li>\n",
       "\t<li>'you'</li>\n",
       "\t<li>'have'</li>\n",
       "\t<li>'chosen'</li>\n",
       "\t<li>'me'</li>\n",
       "\t<li>'as'</li>\n",
       "\t<li>'one'</li>\n",
       "\t<li>'the'</li>\n",
       "\t<li>'recipients'</li>\n",
       "\t<li>'for'</li>\n",
       "\t<li>'your'</li>\n",
       "\t<li>'award'</li>\n",
       "\t<li>'as'</li>\n",
       "\t<li>'mentioned'</li>\n",
       "\t<li>'before'</li>\n",
       "\t<li>'my'</li>\n",
       "\t<li>'family'</li>\n",
       "\t<li>'and'</li>\n",
       "\t<li>'i'</li>\n",
       "\t<li>'are'</li>\n",
       "\t<li>'making'</li>\n",
       "\t<li>'great'</li>\n",
       "\t<li>'efforts'</li>\n",
       "\t<li>'for'</li>\n",
       "\t<li>'me'</li>\n",
       "\t<li>'to'</li>\n",
       "\t<li>'continue'</li>\n",
       "\t<li>'my'</li>\n",
       "\t<li>'education'</li>\n",
       "\t<li>'and'</li>\n",
       "\t<li>'we'</li>\n",
       "\t<li>'appreciate'</li>\n",
       "\t<li>'your'</li>\n",
       "\t<li>'contribution'</li>\n",
       "\t<li>'to'</li>\n",
       "\t<li>'this'</li>\n",
       "\t<li>'effort'</li>\n",
       "\t<li>''</li>\n",
       "\t<li>'i'</li>\n",
       "\t<li>'am'</li>\n",
       "\t<li>'currently'</li>\n",
       "\t<li>'in'</li>\n",
       "\t<li>'third'</li>\n",
       "\t<li>'semester'</li>\n",
       "\t<li>'i'</li>\n",
       "\t<li>'am'</li>\n",
       "\t<li>'very'</li>\n",
       "\t<li>'proud'</li>\n",
       "\t<li>'to'</li>\n",
       "\t<li>'say'</li>\n",
       "\t<li>'that'</li>\n",
       "\t<li>'i'</li>\n",
       "\t<li>'have'</li>\n",
       "\t<li>'done'</li>\n",
       "\t<li>'very'</li>\n",
       "\t<li>'well'</li>\n",
       "\t<li>'in'</li>\n",
       "\t<li>'the'</li>\n",
       "\t<li>'clinical'</li>\n",
       "\t<li>'setting'</li>\n",
       "\t<li>'my'</li>\n",
       "\t<li>'instructor'</li>\n",
       "\t<li>'has'</li>\n",
       "\t<li>'given'</li>\n",
       "\t<li>'me'</li>\n",
       "\t<li>'very'</li>\n",
       "\t<li>'good'</li>\n",
       "\t<li>'evaluations'</li>\n",
       "\t<li>'my'</li>\n",
       "\t<li>'goal'</li>\n",
       "\t<li>'is'</li>\n",
       "\t<li>'to'</li>\n",
       "\t<li>'shine'</li>\n",
       "\t<li>'in'</li>\n",
       "\t<li>'the'</li>\n",
       "\t<li>'clinical'</li>\n",
       "\t<li>'setting'</li>\n",
       "\t<li>'because'</li>\n",
       "\t<li>'that'</li>\n",
       "\t<li>'is'</li>\n",
       "\t<li>'were'</li>\n",
       "\t<li>'i'</li>\n",
       "\t<li>'will'</li>\n",
       "\t<li>'be'</li>\n",
       "\t<li>'working'</li>\n",
       "\t<li>'once'</li>\n",
       "\t<li>'i'</li>\n",
       "\t<li>'graduate'</li>\n",
       "\t<li>'from'</li>\n",
       "\t<li>'the'</li>\n",
       "\t<li>'program'</li>\n",
       "\t<li>'my'</li>\n",
       "\t<li>'instructor'</li>\n",
       "\t<li>'advice'</li>\n",
       "\t<li>'me'</li>\n",
       "\t<li>'to'</li>\n",
       "\t<li>'see'</li>\n",
       "\t<li>'the'</li>\n",
       "\t<li>'clinical'</li>\n",
       "\t<li>'experience'</li>\n",
       "\t<li>'as'</li>\n",
       "\t<li>'a'</li>\n",
       "\t<li>'job'</li>\n",
       "\t<li>'interview'</li>\n",
       "\t<li>'and'</li>\n",
       "\t<li>'i'</li>\n",
       "\t<li>'can'</li>\n",
       "\t<li>'only'</li>\n",
       "\t<li>'be'</li>\n",
       "\t<li>'thankful'</li>\n",
       "\t<li>'for'</li>\n",
       "\t<li>'the'</li>\n",
       "\t<li>'advices'</li>\n",
       "\t<li>'teachings'</li>\n",
       "\t<li>'and'</li>\n",
       "\t<li>'opinions'</li>\n",
       "\t<li>'of'</li>\n",
       "\t<li>'the'</li>\n",
       "\t<li>'ones'</li>\n",
       "\t<li>'who'</li>\n",
       "\t<li>'have'</li>\n",
       "\t<li>'more'</li>\n",
       "\t<li>'experience'</li>\n",
       "\t<li>'that'</li>\n",
       "\t<li>'i'</li>\n",
       "\t<li>'do'</li>\n",
       "\t<li>'in'</li>\n",
       "\t<li>'a'</li>\n",
       "\t<li>'year'</li>\n",
       "\t<li>'when'</li>\n",
       "\t<li>'i'</li>\n",
       "\t<li>'am'</li>\n",
       "\t<li>'done'</li>\n",
       "\t<li>'with'</li>\n",
       "\t<li>'the'</li>\n",
       "\t<li>'program'</li>\n",
       "\t<li>'i'</li>\n",
       "\t<li>'hope'</li>\n",
       "\t<li>'to'</li>\n",
       "\t<li>'enter'</li>\n",
       "\t<li>'the'</li>\n",
       "\t<li>'work'</li>\n",
       "\t<li>'field'</li>\n",
       "\t<li>'and'</li>\n",
       "\t<li>'apply'</li>\n",
       "\t<li>'to'</li>\n",
       "\t<li>'a'</li>\n",
       "\t<li>'bsn'</li>\n",
       "\t<li>'program'</li>\n",
       "\t<li>'my'</li>\n",
       "\t<li>'main'</li>\n",
       "\t<li>'interest'</li>\n",
       "\t<li>'is'</li>\n",
       "\t<li>'point'</li>\n",
       "\t<li>'loma'</li>\n",
       "\t<li>'of'</li>\n",
       "\t<li>'nazareth'</li>\n",
       "\t<li>'university'</li>\n",
       "\t<li>'or'</li>\n",
       "\t<li>'cal'</li>\n",
       "\t<li>'state'</li>\n",
       "\t<li>'san'</li>\n",
       "\t<li>'marcos'</li>\n",
       "\t<li>'in'</li>\n",
       "\t<li>'the'</li>\n",
       "\t<li>'future'</li>\n",
       "\t<li>'i'</li>\n",
       "\t<li>'would'</li>\n",
       "\t<li>'like'</li>\n",
       "\t<li>'to'</li>\n",
       "\t<li>'concentrate'</li>\n",
       "\t<li>'in'</li>\n",
       "\t<li>'the'</li>\n",
       "\t<li>'area'</li>\n",
       "\t<li>'of'</li>\n",
       "\t<li>'pediatrics'</li>\n",
       "\t<li>'ob'</li>\n",
       "\t<li>'postpartum'</li>\n",
       "\t<li>'and'</li>\n",
       "\t<li>'forensic'</li>\n",
       "\t<li>'nursing'</li>\n",
       "\t<li>'however'</li>\n",
       "\t<li>'i'</li>\n",
       "\t<li>'understand'</li>\n",
       "\t<li>'that'</li>\n",
       "\t<li>'nursing'</li>\n",
       "\t<li>'has'</li>\n",
       "\t<li>'a'</li>\n",
       "\t<li>'lot'</li>\n",
       "\t<li>'of'</li>\n",
       "\t<li>'options'</li>\n",
       "\t<li>'and'</li>\n",
       "\t<li>'i'</li>\n",
       "\t<li>'believe'</li>\n",
       "\t<li>'that'</li>\n",
       "\t<li>'it'</li>\n",
       "\t<li>'is'</li>\n",
       "\t<li>'in'</li>\n",
       "\t<li>'my'</li>\n",
       "\t<li>'best'</li>\n",
       "\t<li>'interest'</li>\n",
       "\t<li>'to'</li>\n",
       "\t<li>'accept'</li>\n",
       "\t<li>'and'</li>\n",
       "\t<li>'embrace'</li>\n",
       "\t<li>'every'</li>\n",
       "\t<li>'challenge'</li>\n",
       "\t<li>'that'</li>\n",
       "\t<li>'is'</li>\n",
       "\t<li>'presented'</li>\n",
       "\t<li>'in'</li>\n",
       "\t<li>'my'</li>\n",
       "\t<li>'life'</li>\n",
       "\t<li>''</li>\n",
       "\t<li>'with'</li>\n",
       "\t<li>'the'</li>\n",
       "\t<li>'help'</li>\n",
       "\t<li>'of'</li>\n",
       "\t<li>'my'</li>\n",
       "\t<li>'family'</li>\n",
       "\t<li>'and'</li>\n",
       "\t<li>'people'</li>\n",
       "\t<li>'like'</li>\n",
       "\t<li>'you'</li>\n",
       "\t<li>'who'</li>\n",
       "\t<li>'are'</li>\n",
       "\t<li>'supportive'</li>\n",
       "\t<li>'i'</li>\n",
       "\t<li>'have'</li>\n",
       "\t<li>'no'</li>\n",
       "\t<li>'doubt'</li>\n",
       "\t<li>'that'</li>\n",
       "\t<li>'i'</li>\n",
       "\t<li>'will'</li>\n",
       "\t<li>'be'</li>\n",
       "\t<li>'able'</li>\n",
       "\t<li>'to'</li>\n",
       "\t<li>'reach'</li>\n",
       "\t<li>'any'</li>\n",
       "\t<li>'goal'</li>\n",
       "\t<li>'that'</li>\n",
       "\t<li>'i'</li>\n",
       "\t<li>'establish'</li>\n",
       "\t<li>'for'</li>\n",
       "\t<li>'my'</li>\n",
       "\t<li>'future'</li>\n",
       "\t<li>'i'</li>\n",
       "\t<li>'strive'</li>\n",
       "\t<li>'every'</li>\n",
       "\t<li>'day'</li>\n",
       "\t<li>'for'</li>\n",
       "\t<li>'my'</li>\n",
       "\t<li>'child'</li>\n",
       "\t<li>'who'</li>\n",
       "\t<li>'is'</li>\n",
       "\t<li>'six'</li>\n",
       "\t<li>'to'</li>\n",
       "\t<li>'be'</li>\n",
       "\t<li>'proud'</li>\n",
       "\t<li>'of'</li>\n",
       "\t<li>'his'</li>\n",
       "\t<li>'mom'</li>\n",
       "\t<li>'and'</li>\n",
       "\t<li>'for'</li>\n",
       "\t<li>'him'</li>\n",
       "\t<li>'to'</li>\n",
       "\t<li>'know'</li>\n",
       "\t<li>'that'</li>\n",
       "\t<li>'all'</li>\n",
       "\t<li>'challenges'</li>\n",
       "\t<li>'in'</li>\n",
       "\t<li>'life'</li>\n",
       "\t<li>'only'</li>\n",
       "\t<li>'make'</li>\n",
       "\t<li>'people'</li>\n",
       "\t<li>'stronger'</li>\n",
       "\t<li>'i'</li>\n",
       "\t<li>'want'</li>\n",
       "\t<li>'him'</li>\n",
       "\t<li>'to'</li>\n",
       "\t<li>'learn'</li>\n",
       "\t<li>'that'</li>\n",
       "\t<li>'the'</li>\n",
       "\t<li>'road'</li>\n",
       "\t<li>'ahead'</li>\n",
       "\t<li>'is'</li>\n",
       "\t<li>'not'</li>\n",
       "\t<li>'flat'</li>\n",
       "\t<li>'but'</li>\n",
       "\t<li>'rather'</li>\n",
       "\t<li>'it'</li>\n",
       "\t<li>'will'</li>\n",
       "\t<li>'be'</li>\n",
       "\t<li>'full'</li>\n",
       "\t<li>'of'</li>\n",
       "\t<li>'obstacles'</li>\n",
       "\t<li>'one'</li>\n",
       "\t<li>'has'</li>\n",
       "\t<li>'to'</li>\n",
       "\t<li>'learn'</li>\n",
       "\t<li>'how'</li>\n",
       "\t<li>'to'</li>\n",
       "\t<li>'jump'</li>\n",
       "\t<li>'them'</li>\n",
       "\t<li>'otherwise'</li>\n",
       "\t<li>'he'</li>\n",
       "\t<li>'will'</li>\n",
       "\t<li>'be'</li>\n",
       "\t<li>'stuck'</li>\n",
       "\t<li>'in'</li>\n",
       "\t<li>'the'</li>\n",
       "\t<li>'same'</li>\n",
       "\t<li>'place'</li>\n",
       "\t<li>'forever'</li>\n",
       "\t<li>''</li>\n",
       "\t<li>'again'</li>\n",
       "\t<li>'i'</li>\n",
       "\t<li>'cannot'</li>\n",
       "\t<li>'thank'</li>\n",
       "\t<li>'you'</li>\n",
       "\t<li>'enough'</li>\n",
       "\t<li>'for'</li>\n",
       "\t<li>'the'</li>\n",
       "\t<li>'opportunity'</li>\n",
       "\t<li>'to'</li>\n",
       "\t<li>'accept'</li>\n",
       "\t<li>'the'</li>\n",
       "\t<li>'award'</li>\n",
       "\t<li>''</li>\n",
       "\t<li>'sincerely'</li>\n",
       "\t<li>'Thank_you'</li>\n",
       "\t<li>'Thank_you'</li>\n",
       "\t<li>'Thank_you'</li>\n",
       "\t<li>'Thank_you'</li>\n",
       "\t<li>'Thank_you'</li>\n",
       "</ol>\n"
      ],
      "text/latex": [
       "\\begin{enumerate*}\n",
       "\\item 'i'\n",
       "\\item 'am'\n",
       "\\item 'very'\n",
       "\\item 'thankful'\n",
       "\\item 'that'\n",
       "\\item 'you'\n",
       "\\item 'have'\n",
       "\\item 'chosen'\n",
       "\\item 'me'\n",
       "\\item 'as'\n",
       "\\item 'one'\n",
       "\\item 'the'\n",
       "\\item 'recipients'\n",
       "\\item 'for'\n",
       "\\item 'your'\n",
       "\\item 'award'\n",
       "\\item 'as'\n",
       "\\item 'mentioned'\n",
       "\\item 'before'\n",
       "\\item 'my'\n",
       "\\item 'family'\n",
       "\\item 'and'\n",
       "\\item 'i'\n",
       "\\item 'are'\n",
       "\\item 'making'\n",
       "\\item 'great'\n",
       "\\item 'efforts'\n",
       "\\item 'for'\n",
       "\\item 'me'\n",
       "\\item 'to'\n",
       "\\item 'continue'\n",
       "\\item 'my'\n",
       "\\item 'education'\n",
       "\\item 'and'\n",
       "\\item 'we'\n",
       "\\item 'appreciate'\n",
       "\\item 'your'\n",
       "\\item 'contribution'\n",
       "\\item 'to'\n",
       "\\item 'this'\n",
       "\\item 'effort'\n",
       "\\item ''\n",
       "\\item 'i'\n",
       "\\item 'am'\n",
       "\\item 'currently'\n",
       "\\item 'in'\n",
       "\\item 'third'\n",
       "\\item 'semester'\n",
       "\\item 'i'\n",
       "\\item 'am'\n",
       "\\item 'very'\n",
       "\\item 'proud'\n",
       "\\item 'to'\n",
       "\\item 'say'\n",
       "\\item 'that'\n",
       "\\item 'i'\n",
       "\\item 'have'\n",
       "\\item 'done'\n",
       "\\item 'very'\n",
       "\\item 'well'\n",
       "\\item 'in'\n",
       "\\item 'the'\n",
       "\\item 'clinical'\n",
       "\\item 'setting'\n",
       "\\item 'my'\n",
       "\\item 'instructor'\n",
       "\\item 'has'\n",
       "\\item 'given'\n",
       "\\item 'me'\n",
       "\\item 'very'\n",
       "\\item 'good'\n",
       "\\item 'evaluations'\n",
       "\\item 'my'\n",
       "\\item 'goal'\n",
       "\\item 'is'\n",
       "\\item 'to'\n",
       "\\item 'shine'\n",
       "\\item 'in'\n",
       "\\item 'the'\n",
       "\\item 'clinical'\n",
       "\\item 'setting'\n",
       "\\item 'because'\n",
       "\\item 'that'\n",
       "\\item 'is'\n",
       "\\item 'were'\n",
       "\\item 'i'\n",
       "\\item 'will'\n",
       "\\item 'be'\n",
       "\\item 'working'\n",
       "\\item 'once'\n",
       "\\item 'i'\n",
       "\\item 'graduate'\n",
       "\\item 'from'\n",
       "\\item 'the'\n",
       "\\item 'program'\n",
       "\\item 'my'\n",
       "\\item 'instructor'\n",
       "\\item 'advice'\n",
       "\\item 'me'\n",
       "\\item 'to'\n",
       "\\item 'see'\n",
       "\\item 'the'\n",
       "\\item 'clinical'\n",
       "\\item 'experience'\n",
       "\\item 'as'\n",
       "\\item 'a'\n",
       "\\item 'job'\n",
       "\\item 'interview'\n",
       "\\item 'and'\n",
       "\\item 'i'\n",
       "\\item 'can'\n",
       "\\item 'only'\n",
       "\\item 'be'\n",
       "\\item 'thankful'\n",
       "\\item 'for'\n",
       "\\item 'the'\n",
       "\\item 'advices'\n",
       "\\item 'teachings'\n",
       "\\item 'and'\n",
       "\\item 'opinions'\n",
       "\\item 'of'\n",
       "\\item 'the'\n",
       "\\item 'ones'\n",
       "\\item 'who'\n",
       "\\item 'have'\n",
       "\\item 'more'\n",
       "\\item 'experience'\n",
       "\\item 'that'\n",
       "\\item 'i'\n",
       "\\item 'do'\n",
       "\\item 'in'\n",
       "\\item 'a'\n",
       "\\item 'year'\n",
       "\\item 'when'\n",
       "\\item 'i'\n",
       "\\item 'am'\n",
       "\\item 'done'\n",
       "\\item 'with'\n",
       "\\item 'the'\n",
       "\\item 'program'\n",
       "\\item 'i'\n",
       "\\item 'hope'\n",
       "\\item 'to'\n",
       "\\item 'enter'\n",
       "\\item 'the'\n",
       "\\item 'work'\n",
       "\\item 'field'\n",
       "\\item 'and'\n",
       "\\item 'apply'\n",
       "\\item 'to'\n",
       "\\item 'a'\n",
       "\\item 'bsn'\n",
       "\\item 'program'\n",
       "\\item 'my'\n",
       "\\item 'main'\n",
       "\\item 'interest'\n",
       "\\item 'is'\n",
       "\\item 'point'\n",
       "\\item 'loma'\n",
       "\\item 'of'\n",
       "\\item 'nazareth'\n",
       "\\item 'university'\n",
       "\\item 'or'\n",
       "\\item 'cal'\n",
       "\\item 'state'\n",
       "\\item 'san'\n",
       "\\item 'marcos'\n",
       "\\item 'in'\n",
       "\\item 'the'\n",
       "\\item 'future'\n",
       "\\item 'i'\n",
       "\\item 'would'\n",
       "\\item 'like'\n",
       "\\item 'to'\n",
       "\\item 'concentrate'\n",
       "\\item 'in'\n",
       "\\item 'the'\n",
       "\\item 'area'\n",
       "\\item 'of'\n",
       "\\item 'pediatrics'\n",
       "\\item 'ob'\n",
       "\\item 'postpartum'\n",
       "\\item 'and'\n",
       "\\item 'forensic'\n",
       "\\item 'nursing'\n",
       "\\item 'however'\n",
       "\\item 'i'\n",
       "\\item 'understand'\n",
       "\\item 'that'\n",
       "\\item 'nursing'\n",
       "\\item 'has'\n",
       "\\item 'a'\n",
       "\\item 'lot'\n",
       "\\item 'of'\n",
       "\\item 'options'\n",
       "\\item 'and'\n",
       "\\item 'i'\n",
       "\\item 'believe'\n",
       "\\item 'that'\n",
       "\\item 'it'\n",
       "\\item 'is'\n",
       "\\item 'in'\n",
       "\\item 'my'\n",
       "\\item 'best'\n",
       "\\item 'interest'\n",
       "\\item 'to'\n",
       "\\item 'accept'\n",
       "\\item 'and'\n",
       "\\item 'embrace'\n",
       "\\item 'every'\n",
       "\\item 'challenge'\n",
       "\\item 'that'\n",
       "\\item 'is'\n",
       "\\item 'presented'\n",
       "\\item 'in'\n",
       "\\item 'my'\n",
       "\\item 'life'\n",
       "\\item ''\n",
       "\\item 'with'\n",
       "\\item 'the'\n",
       "\\item 'help'\n",
       "\\item 'of'\n",
       "\\item 'my'\n",
       "\\item 'family'\n",
       "\\item 'and'\n",
       "\\item 'people'\n",
       "\\item 'like'\n",
       "\\item 'you'\n",
       "\\item 'who'\n",
       "\\item 'are'\n",
       "\\item 'supportive'\n",
       "\\item 'i'\n",
       "\\item 'have'\n",
       "\\item 'no'\n",
       "\\item 'doubt'\n",
       "\\item 'that'\n",
       "\\item 'i'\n",
       "\\item 'will'\n",
       "\\item 'be'\n",
       "\\item 'able'\n",
       "\\item 'to'\n",
       "\\item 'reach'\n",
       "\\item 'any'\n",
       "\\item 'goal'\n",
       "\\item 'that'\n",
       "\\item 'i'\n",
       "\\item 'establish'\n",
       "\\item 'for'\n",
       "\\item 'my'\n",
       "\\item 'future'\n",
       "\\item 'i'\n",
       "\\item 'strive'\n",
       "\\item 'every'\n",
       "\\item 'day'\n",
       "\\item 'for'\n",
       "\\item 'my'\n",
       "\\item 'child'\n",
       "\\item 'who'\n",
       "\\item 'is'\n",
       "\\item 'six'\n",
       "\\item 'to'\n",
       "\\item 'be'\n",
       "\\item 'proud'\n",
       "\\item 'of'\n",
       "\\item 'his'\n",
       "\\item 'mom'\n",
       "\\item 'and'\n",
       "\\item 'for'\n",
       "\\item 'him'\n",
       "\\item 'to'\n",
       "\\item 'know'\n",
       "\\item 'that'\n",
       "\\item 'all'\n",
       "\\item 'challenges'\n",
       "\\item 'in'\n",
       "\\item 'life'\n",
       "\\item 'only'\n",
       "\\item 'make'\n",
       "\\item 'people'\n",
       "\\item 'stronger'\n",
       "\\item 'i'\n",
       "\\item 'want'\n",
       "\\item 'him'\n",
       "\\item 'to'\n",
       "\\item 'learn'\n",
       "\\item 'that'\n",
       "\\item 'the'\n",
       "\\item 'road'\n",
       "\\item 'ahead'\n",
       "\\item 'is'\n",
       "\\item 'not'\n",
       "\\item 'flat'\n",
       "\\item 'but'\n",
       "\\item 'rather'\n",
       "\\item 'it'\n",
       "\\item 'will'\n",
       "\\item 'be'\n",
       "\\item 'full'\n",
       "\\item 'of'\n",
       "\\item 'obstacles'\n",
       "\\item 'one'\n",
       "\\item 'has'\n",
       "\\item 'to'\n",
       "\\item 'learn'\n",
       "\\item 'how'\n",
       "\\item 'to'\n",
       "\\item 'jump'\n",
       "\\item 'them'\n",
       "\\item 'otherwise'\n",
       "\\item 'he'\n",
       "\\item 'will'\n",
       "\\item 'be'\n",
       "\\item 'stuck'\n",
       "\\item 'in'\n",
       "\\item 'the'\n",
       "\\item 'same'\n",
       "\\item 'place'\n",
       "\\item 'forever'\n",
       "\\item ''\n",
       "\\item 'again'\n",
       "\\item 'i'\n",
       "\\item 'cannot'\n",
       "\\item 'thank'\n",
       "\\item 'you'\n",
       "\\item 'enough'\n",
       "\\item 'for'\n",
       "\\item 'the'\n",
       "\\item 'opportunity'\n",
       "\\item 'to'\n",
       "\\item 'accept'\n",
       "\\item 'the'\n",
       "\\item 'award'\n",
       "\\item ''\n",
       "\\item 'sincerely'\n",
       "\\item 'Thank\\_you'\n",
       "\\item 'Thank\\_you'\n",
       "\\item 'Thank\\_you'\n",
       "\\item 'Thank\\_you'\n",
       "\\item 'Thank\\_you'\n",
       "\\end{enumerate*}\n"
      ],
      "text/markdown": [
       "1. 'i'\n",
       "2. 'am'\n",
       "3. 'very'\n",
       "4. 'thankful'\n",
       "5. 'that'\n",
       "6. 'you'\n",
       "7. 'have'\n",
       "8. 'chosen'\n",
       "9. 'me'\n",
       "10. 'as'\n",
       "11. 'one'\n",
       "12. 'the'\n",
       "13. 'recipients'\n",
       "14. 'for'\n",
       "15. 'your'\n",
       "16. 'award'\n",
       "17. 'as'\n",
       "18. 'mentioned'\n",
       "19. 'before'\n",
       "20. 'my'\n",
       "21. 'family'\n",
       "22. 'and'\n",
       "23. 'i'\n",
       "24. 'are'\n",
       "25. 'making'\n",
       "26. 'great'\n",
       "27. 'efforts'\n",
       "28. 'for'\n",
       "29. 'me'\n",
       "30. 'to'\n",
       "31. 'continue'\n",
       "32. 'my'\n",
       "33. 'education'\n",
       "34. 'and'\n",
       "35. 'we'\n",
       "36. 'appreciate'\n",
       "37. 'your'\n",
       "38. 'contribution'\n",
       "39. 'to'\n",
       "40. 'this'\n",
       "41. 'effort'\n",
       "42. ''\n",
       "43. 'i'\n",
       "44. 'am'\n",
       "45. 'currently'\n",
       "46. 'in'\n",
       "47. 'third'\n",
       "48. 'semester'\n",
       "49. 'i'\n",
       "50. 'am'\n",
       "51. 'very'\n",
       "52. 'proud'\n",
       "53. 'to'\n",
       "54. 'say'\n",
       "55. 'that'\n",
       "56. 'i'\n",
       "57. 'have'\n",
       "58. 'done'\n",
       "59. 'very'\n",
       "60. 'well'\n",
       "61. 'in'\n",
       "62. 'the'\n",
       "63. 'clinical'\n",
       "64. 'setting'\n",
       "65. 'my'\n",
       "66. 'instructor'\n",
       "67. 'has'\n",
       "68. 'given'\n",
       "69. 'me'\n",
       "70. 'very'\n",
       "71. 'good'\n",
       "72. 'evaluations'\n",
       "73. 'my'\n",
       "74. 'goal'\n",
       "75. 'is'\n",
       "76. 'to'\n",
       "77. 'shine'\n",
       "78. 'in'\n",
       "79. 'the'\n",
       "80. 'clinical'\n",
       "81. 'setting'\n",
       "82. 'because'\n",
       "83. 'that'\n",
       "84. 'is'\n",
       "85. 'were'\n",
       "86. 'i'\n",
       "87. 'will'\n",
       "88. 'be'\n",
       "89. 'working'\n",
       "90. 'once'\n",
       "91. 'i'\n",
       "92. 'graduate'\n",
       "93. 'from'\n",
       "94. 'the'\n",
       "95. 'program'\n",
       "96. 'my'\n",
       "97. 'instructor'\n",
       "98. 'advice'\n",
       "99. 'me'\n",
       "100. 'to'\n",
       "101. 'see'\n",
       "102. 'the'\n",
       "103. 'clinical'\n",
       "104. 'experience'\n",
       "105. 'as'\n",
       "106. 'a'\n",
       "107. 'job'\n",
       "108. 'interview'\n",
       "109. 'and'\n",
       "110. 'i'\n",
       "111. 'can'\n",
       "112. 'only'\n",
       "113. 'be'\n",
       "114. 'thankful'\n",
       "115. 'for'\n",
       "116. 'the'\n",
       "117. 'advices'\n",
       "118. 'teachings'\n",
       "119. 'and'\n",
       "120. 'opinions'\n",
       "121. 'of'\n",
       "122. 'the'\n",
       "123. 'ones'\n",
       "124. 'who'\n",
       "125. 'have'\n",
       "126. 'more'\n",
       "127. 'experience'\n",
       "128. 'that'\n",
       "129. 'i'\n",
       "130. 'do'\n",
       "131. 'in'\n",
       "132. 'a'\n",
       "133. 'year'\n",
       "134. 'when'\n",
       "135. 'i'\n",
       "136. 'am'\n",
       "137. 'done'\n",
       "138. 'with'\n",
       "139. 'the'\n",
       "140. 'program'\n",
       "141. 'i'\n",
       "142. 'hope'\n",
       "143. 'to'\n",
       "144. 'enter'\n",
       "145. 'the'\n",
       "146. 'work'\n",
       "147. 'field'\n",
       "148. 'and'\n",
       "149. 'apply'\n",
       "150. 'to'\n",
       "151. 'a'\n",
       "152. 'bsn'\n",
       "153. 'program'\n",
       "154. 'my'\n",
       "155. 'main'\n",
       "156. 'interest'\n",
       "157. 'is'\n",
       "158. 'point'\n",
       "159. 'loma'\n",
       "160. 'of'\n",
       "161. 'nazareth'\n",
       "162. 'university'\n",
       "163. 'or'\n",
       "164. 'cal'\n",
       "165. 'state'\n",
       "166. 'san'\n",
       "167. 'marcos'\n",
       "168. 'in'\n",
       "169. 'the'\n",
       "170. 'future'\n",
       "171. 'i'\n",
       "172. 'would'\n",
       "173. 'like'\n",
       "174. 'to'\n",
       "175. 'concentrate'\n",
       "176. 'in'\n",
       "177. 'the'\n",
       "178. 'area'\n",
       "179. 'of'\n",
       "180. 'pediatrics'\n",
       "181. 'ob'\n",
       "182. 'postpartum'\n",
       "183. 'and'\n",
       "184. 'forensic'\n",
       "185. 'nursing'\n",
       "186. 'however'\n",
       "187. 'i'\n",
       "188. 'understand'\n",
       "189. 'that'\n",
       "190. 'nursing'\n",
       "191. 'has'\n",
       "192. 'a'\n",
       "193. 'lot'\n",
       "194. 'of'\n",
       "195. 'options'\n",
       "196. 'and'\n",
       "197. 'i'\n",
       "198. 'believe'\n",
       "199. 'that'\n",
       "200. 'it'\n",
       "201. 'is'\n",
       "202. 'in'\n",
       "203. 'my'\n",
       "204. 'best'\n",
       "205. 'interest'\n",
       "206. 'to'\n",
       "207. 'accept'\n",
       "208. 'and'\n",
       "209. 'embrace'\n",
       "210. 'every'\n",
       "211. 'challenge'\n",
       "212. 'that'\n",
       "213. 'is'\n",
       "214. 'presented'\n",
       "215. 'in'\n",
       "216. 'my'\n",
       "217. 'life'\n",
       "218. ''\n",
       "219. 'with'\n",
       "220. 'the'\n",
       "221. 'help'\n",
       "222. 'of'\n",
       "223. 'my'\n",
       "224. 'family'\n",
       "225. 'and'\n",
       "226. 'people'\n",
       "227. 'like'\n",
       "228. 'you'\n",
       "229. 'who'\n",
       "230. 'are'\n",
       "231. 'supportive'\n",
       "232. 'i'\n",
       "233. 'have'\n",
       "234. 'no'\n",
       "235. 'doubt'\n",
       "236. 'that'\n",
       "237. 'i'\n",
       "238. 'will'\n",
       "239. 'be'\n",
       "240. 'able'\n",
       "241. 'to'\n",
       "242. 'reach'\n",
       "243. 'any'\n",
       "244. 'goal'\n",
       "245. 'that'\n",
       "246. 'i'\n",
       "247. 'establish'\n",
       "248. 'for'\n",
       "249. 'my'\n",
       "250. 'future'\n",
       "251. 'i'\n",
       "252. 'strive'\n",
       "253. 'every'\n",
       "254. 'day'\n",
       "255. 'for'\n",
       "256. 'my'\n",
       "257. 'child'\n",
       "258. 'who'\n",
       "259. 'is'\n",
       "260. 'six'\n",
       "261. 'to'\n",
       "262. 'be'\n",
       "263. 'proud'\n",
       "264. 'of'\n",
       "265. 'his'\n",
       "266. 'mom'\n",
       "267. 'and'\n",
       "268. 'for'\n",
       "269. 'him'\n",
       "270. 'to'\n",
       "271. 'know'\n",
       "272. 'that'\n",
       "273. 'all'\n",
       "274. 'challenges'\n",
       "275. 'in'\n",
       "276. 'life'\n",
       "277. 'only'\n",
       "278. 'make'\n",
       "279. 'people'\n",
       "280. 'stronger'\n",
       "281. 'i'\n",
       "282. 'want'\n",
       "283. 'him'\n",
       "284. 'to'\n",
       "285. 'learn'\n",
       "286. 'that'\n",
       "287. 'the'\n",
       "288. 'road'\n",
       "289. 'ahead'\n",
       "290. 'is'\n",
       "291. 'not'\n",
       "292. 'flat'\n",
       "293. 'but'\n",
       "294. 'rather'\n",
       "295. 'it'\n",
       "296. 'will'\n",
       "297. 'be'\n",
       "298. 'full'\n",
       "299. 'of'\n",
       "300. 'obstacles'\n",
       "301. 'one'\n",
       "302. 'has'\n",
       "303. 'to'\n",
       "304. 'learn'\n",
       "305. 'how'\n",
       "306. 'to'\n",
       "307. 'jump'\n",
       "308. 'them'\n",
       "309. 'otherwise'\n",
       "310. 'he'\n",
       "311. 'will'\n",
       "312. 'be'\n",
       "313. 'stuck'\n",
       "314. 'in'\n",
       "315. 'the'\n",
       "316. 'same'\n",
       "317. 'place'\n",
       "318. 'forever'\n",
       "319. ''\n",
       "320. 'again'\n",
       "321. 'i'\n",
       "322. 'cannot'\n",
       "323. 'thank'\n",
       "324. 'you'\n",
       "325. 'enough'\n",
       "326. 'for'\n",
       "327. 'the'\n",
       "328. 'opportunity'\n",
       "329. 'to'\n",
       "330. 'accept'\n",
       "331. 'the'\n",
       "332. 'award'\n",
       "333. ''\n",
       "334. 'sincerely'\n",
       "335. 'Thank_you'\n",
       "336. 'Thank_you'\n",
       "337. 'Thank_you'\n",
       "338. 'Thank_you'\n",
       "339. 'Thank_you'\n",
       "\n",
       "\n"
      ],
      "text/plain": [
       "  [1] \"i\"            \"am\"           \"very\"         \"thankful\"     \"that\"        \n",
       "  [6] \"you\"          \"have\"         \"chosen\"       \"me\"           \"as\"          \n",
       " [11] \"one\"          \"the\"          \"recipients\"   \"for\"          \"your\"        \n",
       " [16] \"award\"        \"as\"           \"mentioned\"    \"before\"       \"my\"          \n",
       " [21] \"family\"       \"and\"          \"i\"            \"are\"          \"making\"      \n",
       " [26] \"great\"        \"efforts\"      \"for\"          \"me\"           \"to\"          \n",
       " [31] \"continue\"     \"my\"           \"education\"    \"and\"          \"we\"          \n",
       " [36] \"appreciate\"   \"your\"         \"contribution\" \"to\"           \"this\"        \n",
       " [41] \"effort\"       \"\"             \"i\"            \"am\"           \"currently\"   \n",
       " [46] \"in\"           \"third\"        \"semester\"     \"i\"            \"am\"          \n",
       " [51] \"very\"         \"proud\"        \"to\"           \"say\"          \"that\"        \n",
       " [56] \"i\"            \"have\"         \"done\"         \"very\"         \"well\"        \n",
       " [61] \"in\"           \"the\"          \"clinical\"     \"setting\"      \"my\"          \n",
       " [66] \"instructor\"   \"has\"          \"given\"        \"me\"           \"very\"        \n",
       " [71] \"good\"         \"evaluations\"  \"my\"           \"goal\"         \"is\"          \n",
       " [76] \"to\"           \"shine\"        \"in\"           \"the\"          \"clinical\"    \n",
       " [81] \"setting\"      \"because\"      \"that\"         \"is\"           \"were\"        \n",
       " [86] \"i\"            \"will\"         \"be\"           \"working\"      \"once\"        \n",
       " [91] \"i\"            \"graduate\"     \"from\"         \"the\"          \"program\"     \n",
       " [96] \"my\"           \"instructor\"   \"advice\"       \"me\"           \"to\"          \n",
       "[101] \"see\"          \"the\"          \"clinical\"     \"experience\"   \"as\"          \n",
       "[106] \"a\"            \"job\"          \"interview\"    \"and\"          \"i\"           \n",
       "[111] \"can\"          \"only\"         \"be\"           \"thankful\"     \"for\"         \n",
       "[116] \"the\"          \"advices\"      \"teachings\"    \"and\"          \"opinions\"    \n",
       "[121] \"of\"           \"the\"          \"ones\"         \"who\"          \"have\"        \n",
       "[126] \"more\"         \"experience\"   \"that\"         \"i\"            \"do\"          \n",
       "[131] \"in\"           \"a\"            \"year\"         \"when\"         \"i\"           \n",
       "[136] \"am\"           \"done\"         \"with\"         \"the\"          \"program\"     \n",
       "[141] \"i\"            \"hope\"         \"to\"           \"enter\"        \"the\"         \n",
       "[146] \"work\"         \"field\"        \"and\"          \"apply\"        \"to\"          \n",
       "[151] \"a\"            \"bsn\"          \"program\"      \"my\"           \"main\"        \n",
       "[156] \"interest\"     \"is\"           \"point\"        \"loma\"         \"of\"          \n",
       "[161] \"nazareth\"     \"university\"   \"or\"           \"cal\"          \"state\"       \n",
       "[166] \"san\"          \"marcos\"       \"in\"           \"the\"          \"future\"      \n",
       "[171] \"i\"            \"would\"        \"like\"         \"to\"           \"concentrate\" \n",
       "[176] \"in\"           \"the\"          \"area\"         \"of\"           \"pediatrics\"  \n",
       "[181] \"ob\"           \"postpartum\"   \"and\"          \"forensic\"     \"nursing\"     \n",
       "[186] \"however\"      \"i\"            \"understand\"   \"that\"         \"nursing\"     \n",
       "[191] \"has\"          \"a\"            \"lot\"          \"of\"           \"options\"     \n",
       "[196] \"and\"          \"i\"            \"believe\"      \"that\"         \"it\"          \n",
       "[201] \"is\"           \"in\"           \"my\"           \"best\"         \"interest\"    \n",
       "[206] \"to\"           \"accept\"       \"and\"          \"embrace\"      \"every\"       \n",
       "[211] \"challenge\"    \"that\"         \"is\"           \"presented\"    \"in\"          \n",
       "[216] \"my\"           \"life\"         \"\"             \"with\"         \"the\"         \n",
       "[221] \"help\"         \"of\"           \"my\"           \"family\"       \"and\"         \n",
       "[226] \"people\"       \"like\"         \"you\"          \"who\"          \"are\"         \n",
       "[231] \"supportive\"   \"i\"            \"have\"         \"no\"           \"doubt\"       \n",
       "[236] \"that\"         \"i\"            \"will\"         \"be\"           \"able\"        \n",
       "[241] \"to\"           \"reach\"        \"any\"          \"goal\"         \"that\"        \n",
       "[246] \"i\"            \"establish\"    \"for\"          \"my\"           \"future\"      \n",
       "[251] \"i\"            \"strive\"       \"every\"        \"day\"          \"for\"         \n",
       "[256] \"my\"           \"child\"        \"who\"          \"is\"           \"six\"         \n",
       "[261] \"to\"           \"be\"           \"proud\"        \"of\"           \"his\"         \n",
       "[266] \"mom\"          \"and\"          \"for\"          \"him\"          \"to\"          \n",
       "[271] \"know\"         \"that\"         \"all\"          \"challenges\"   \"in\"          \n",
       "[276] \"life\"         \"only\"         \"make\"         \"people\"       \"stronger\"    \n",
       "[281] \"i\"            \"want\"         \"him\"          \"to\"           \"learn\"       \n",
       "[286] \"that\"         \"the\"          \"road\"         \"ahead\"        \"is\"          \n",
       "[291] \"not\"          \"flat\"         \"but\"          \"rather\"       \"it\"          \n",
       "[296] \"will\"         \"be\"           \"full\"         \"of\"           \"obstacles\"   \n",
       "[301] \"one\"          \"has\"          \"to\"           \"learn\"        \"how\"         \n",
       "[306] \"to\"           \"jump\"         \"them\"         \"otherwise\"    \"he\"          \n",
       "[311] \"will\"         \"be\"           \"stuck\"        \"in\"           \"the\"         \n",
       "[316] \"same\"         \"place\"        \"forever\"      \"\"             \"again\"       \n",
       "[321] \"i\"            \"cannot\"       \"thank\"        \"you\"          \"enough\"      \n",
       "[326] \"for\"          \"the\"          \"opportunity\"  \"to\"           \"accept\"      \n",
       "[331] \"the\"          \"award\"        \"\"             \"sincerely\"    \"Thank_you\"   \n",
       "[336] \"Thank_you\"    \"Thank_you\"    \"Thank_you\"    \"Thank_you\"   "
      ]
     },
     "metadata": {},
     "output_type": "display_data"
    }
   ],
   "source": [
    "words2"
   ]
  },
  {
   "cell_type": "code",
   "execution_count": 63,
   "metadata": {
    "collapsed": true
   },
   "outputs": [],
   "source": [
    "wordCorpus <- Corpus(VectorSource(words2))"
   ]
  },
  {
   "cell_type": "code",
   "execution_count": 64,
   "metadata": {
    "collapsed": true
   },
   "outputs": [],
   "source": [
    "words <- tm_map(wordCorpus, removeWords, stopwords(\"en\"))"
   ]
  },
  {
   "cell_type": "code",
   "execution_count": 65,
   "metadata": {},
   "outputs": [
    {
     "data": {
      "image/png": "[encoded data removed]",
      "text/plain": [
       "plot without title"
      ]
     },
     "metadata": {},
     "output_type": "display_data"
    }
   ],
   "source": [
    "wordcloud(words, min.freq=1, scale=c(5,0.5), colors=brewer.pal(8, \"Dark2\"),random.color=FALSE, random.order=FALSE, max.words=80)"
   ]
  },
  {
   "cell_type": "code",
   "execution_count": null,
   "metadata": {
    "collapsed": true
   },
   "outputs": [],
   "source": []
  },
  {
   "cell_type": "code",
   "execution_count": null,
   "metadata": {
    "collapsed": true
   },
   "outputs": [],
   "source": []
  }
 ],
 "metadata": {
  "kernelspec": {
   "display_name": "R",
   "language": "R",
   "name": "ir"
  },
  "language_info": {
   "codemirror_mode": "r",
   "file_extension": ".r",
   "mimetype": "text/x-r-source",
   "name": "R",
   "pygments_lexer": "r",
   "version": "3.4.1"
  }
 },
 "nbformat": 4,
 "nbformat_minor": 2
}
